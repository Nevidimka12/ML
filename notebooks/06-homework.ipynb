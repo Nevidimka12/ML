{
 "cells": [
  {
   "cell_type": "markdown",
   "source": [
    "# Easy"
   ],
   "metadata": {
    "collapsed": false
   },
   "id": "4cf8fadbee21d165"
  },
  {
   "cell_type": "code",
   "outputs": [],
   "source": [
    "import pandas as pd\n",
    "import numpy as np\n",
    "import re"
   ],
   "metadata": {
    "collapsed": false,
    "ExecuteTime": {
     "end_time": "2024-04-26T21:07:17.652752Z",
     "start_time": "2024-04-26T21:07:17.627531Z"
    }
   },
   "id": "56af2b7797b1ee53",
   "execution_count": 69
  },
  {
   "cell_type": "code",
   "outputs": [
    {
     "data": {
      "text/plain": "              published_date published_platform  rating    type  \\\n0  2024-03-12T14:41:14-04:00            Desktop       3  review   \n1  2024-03-11T19:39:13-04:00            Desktop       5  review   \n2  2024-03-11T12:20:23-04:00            Desktop       1  review   \n3  2024-03-11T07:12:27-04:00            Desktop       5  review   \n4  2024-03-10T05:34:18-04:00            Desktop       2  review   \n\n                                                text  \\\n0  We used this airline to go from Singapore to L...   \n1  The service on Singapore Airlines Suites Class...   \n2  Booked, paid and received email confirmation f...   \n3  Best airline in the world, seats, food, servic...   \n4  Premium Economy Seating on Singapore Airlines ...   \n\n                                               title  helpful_votes  \n0                                                 Ok              0  \n1  The service in Suites Class makes one feel lik...              0  \n2                         Don’t give them your money              0  \n3                          Best Airline in the World              0  \n4  Premium Economy Seating on Singapore Airlines ...              0  ",
      "text/html": "<div>\n<style scoped>\n    .dataframe tbody tr th:only-of-type {\n        vertical-align: middle;\n    }\n\n    .dataframe tbody tr th {\n        vertical-align: top;\n    }\n\n    .dataframe thead th {\n        text-align: right;\n    }\n</style>\n<table border=\"1\" class=\"dataframe\">\n  <thead>\n    <tr style=\"text-align: right;\">\n      <th></th>\n      <th>published_date</th>\n      <th>published_platform</th>\n      <th>rating</th>\n      <th>type</th>\n      <th>text</th>\n      <th>title</th>\n      <th>helpful_votes</th>\n    </tr>\n  </thead>\n  <tbody>\n    <tr>\n      <th>0</th>\n      <td>2024-03-12T14:41:14-04:00</td>\n      <td>Desktop</td>\n      <td>3</td>\n      <td>review</td>\n      <td>We used this airline to go from Singapore to L...</td>\n      <td>Ok</td>\n      <td>0</td>\n    </tr>\n    <tr>\n      <th>1</th>\n      <td>2024-03-11T19:39:13-04:00</td>\n      <td>Desktop</td>\n      <td>5</td>\n      <td>review</td>\n      <td>The service on Singapore Airlines Suites Class...</td>\n      <td>The service in Suites Class makes one feel lik...</td>\n      <td>0</td>\n    </tr>\n    <tr>\n      <th>2</th>\n      <td>2024-03-11T12:20:23-04:00</td>\n      <td>Desktop</td>\n      <td>1</td>\n      <td>review</td>\n      <td>Booked, paid and received email confirmation f...</td>\n      <td>Don’t give them your money</td>\n      <td>0</td>\n    </tr>\n    <tr>\n      <th>3</th>\n      <td>2024-03-11T07:12:27-04:00</td>\n      <td>Desktop</td>\n      <td>5</td>\n      <td>review</td>\n      <td>Best airline in the world, seats, food, servic...</td>\n      <td>Best Airline in the World</td>\n      <td>0</td>\n    </tr>\n    <tr>\n      <th>4</th>\n      <td>2024-03-10T05:34:18-04:00</td>\n      <td>Desktop</td>\n      <td>2</td>\n      <td>review</td>\n      <td>Premium Economy Seating on Singapore Airlines ...</td>\n      <td>Premium Economy Seating on Singapore Airlines ...</td>\n      <td>0</td>\n    </tr>\n  </tbody>\n</table>\n</div>"
     },
     "execution_count": 70,
     "metadata": {},
     "output_type": "execute_result"
    }
   ],
   "source": [
    "data = pd.read_csv(\"../singapore_airlines_reviews.csv\")\n",
    "data.head()"
   ],
   "metadata": {
    "collapsed": false,
    "ExecuteTime": {
     "end_time": "2024-04-26T21:07:17.859065Z",
     "start_time": "2024-04-26T21:07:17.659935Z"
    }
   },
   "id": "64f9b59d9d111681",
   "execution_count": 70
  },
  {
   "cell_type": "code",
   "outputs": [
    {
     "data": {
      "text/plain": "   rating                                            comment\n0       3  Ok We used this airline to go from Singapore t...\n1       5  The service in Suites Class makes one feel lik...\n2       1  Don’t give them your money Booked, paid and re...\n3       5  Best Airline in the World Best airline in the ...\n4       2  Premium Economy Seating on Singapore Airlines ...",
      "text/html": "<div>\n<style scoped>\n    .dataframe tbody tr th:only-of-type {\n        vertical-align: middle;\n    }\n\n    .dataframe tbody tr th {\n        vertical-align: top;\n    }\n\n    .dataframe thead th {\n        text-align: right;\n    }\n</style>\n<table border=\"1\" class=\"dataframe\">\n  <thead>\n    <tr style=\"text-align: right;\">\n      <th></th>\n      <th>rating</th>\n      <th>comment</th>\n    </tr>\n  </thead>\n  <tbody>\n    <tr>\n      <th>0</th>\n      <td>3</td>\n      <td>Ok We used this airline to go from Singapore t...</td>\n    </tr>\n    <tr>\n      <th>1</th>\n      <td>5</td>\n      <td>The service in Suites Class makes one feel lik...</td>\n    </tr>\n    <tr>\n      <th>2</th>\n      <td>1</td>\n      <td>Don’t give them your money Booked, paid and re...</td>\n    </tr>\n    <tr>\n      <th>3</th>\n      <td>5</td>\n      <td>Best Airline in the World Best airline in the ...</td>\n    </tr>\n    <tr>\n      <th>4</th>\n      <td>2</td>\n      <td>Premium Economy Seating on Singapore Airlines ...</td>\n    </tr>\n  </tbody>\n</table>\n</div>"
     },
     "execution_count": 71,
     "metadata": {},
     "output_type": "execute_result"
    }
   ],
   "source": [
    "# Соединим между собой заголовок и текст отзывов, чтобы обработать всю информацию\n",
    "data['comment'] = data['title'] + ' ' + data['text']\n",
    "\n",
    "# Удалим ненужные нам столбцы\n",
    "data = data.drop(columns=['published_date', 'published_platform', 'type', 'title', 'text', 'helpful_votes'])\n",
    "\n",
    "data.head()"
   ],
   "metadata": {
    "collapsed": false,
    "ExecuteTime": {
     "end_time": "2024-04-26T21:07:17.960170Z",
     "start_time": "2024-04-26T21:07:17.867249Z"
    }
   },
   "id": "395522660a505bbd",
   "execution_count": 71
  },
  {
   "cell_type": "code",
   "outputs": [
    {
     "data": {
      "text/plain": "                                             comment  mark\n0  Ok We used this airline to go from Singapore t...     0\n1  The service in Suites Class makes one feel lik...     1\n2  Don’t give them your money Booked, paid and re...     0\n3  Best Airline in the World Best airline in the ...     1\n4  Premium Economy Seating on Singapore Airlines ...     0",
      "text/html": "<div>\n<style scoped>\n    .dataframe tbody tr th:only-of-type {\n        vertical-align: middle;\n    }\n\n    .dataframe tbody tr th {\n        vertical-align: top;\n    }\n\n    .dataframe thead th {\n        text-align: right;\n    }\n</style>\n<table border=\"1\" class=\"dataframe\">\n  <thead>\n    <tr style=\"text-align: right;\">\n      <th></th>\n      <th>comment</th>\n      <th>mark</th>\n    </tr>\n  </thead>\n  <tbody>\n    <tr>\n      <th>0</th>\n      <td>Ok We used this airline to go from Singapore t...</td>\n      <td>0</td>\n    </tr>\n    <tr>\n      <th>1</th>\n      <td>The service in Suites Class makes one feel lik...</td>\n      <td>1</td>\n    </tr>\n    <tr>\n      <th>2</th>\n      <td>Don’t give them your money Booked, paid and re...</td>\n      <td>0</td>\n    </tr>\n    <tr>\n      <th>3</th>\n      <td>Best Airline in the World Best airline in the ...</td>\n      <td>1</td>\n    </tr>\n    <tr>\n      <th>4</th>\n      <td>Premium Economy Seating on Singapore Airlines ...</td>\n      <td>0</td>\n    </tr>\n  </tbody>\n</table>\n</div>"
     },
     "execution_count": 72,
     "metadata": {},
     "output_type": "execute_result"
    }
   ],
   "source": [
    "# Будем делить отзывы по рейтингу на положительные (4-5) и отрицательные (1-3)\n",
    "data['mark'] = data['rating'].apply(lambda x: 0 if x <= 3 else 1)\n",
    "data = data.drop(columns='rating')\n",
    "data.head()"
   ],
   "metadata": {
    "collapsed": false,
    "ExecuteTime": {
     "end_time": "2024-04-26T21:07:17.961456Z",
     "start_time": "2024-04-26T21:07:17.925337Z"
    }
   },
   "id": "eec0b6b57efd49ee",
   "execution_count": 72
  },
  {
   "cell_type": "code",
   "outputs": [
    {
     "data": {
      "text/plain": "                                             comment  mark\n0  ok we used this airline to go from singapore t...     0\n1  the service in suites class makes one feel lik...     1\n2  dont give them your money booked paid and rece...     0\n3  best airline in the world best airline in the ...     1\n4  premium economy seating on singapore airlines ...     0",
      "text/html": "<div>\n<style scoped>\n    .dataframe tbody tr th:only-of-type {\n        vertical-align: middle;\n    }\n\n    .dataframe tbody tr th {\n        vertical-align: top;\n    }\n\n    .dataframe thead th {\n        text-align: right;\n    }\n</style>\n<table border=\"1\" class=\"dataframe\">\n  <thead>\n    <tr style=\"text-align: right;\">\n      <th></th>\n      <th>comment</th>\n      <th>mark</th>\n    </tr>\n  </thead>\n  <tbody>\n    <tr>\n      <th>0</th>\n      <td>ok we used this airline to go from singapore t...</td>\n      <td>0</td>\n    </tr>\n    <tr>\n      <th>1</th>\n      <td>the service in suites class makes one feel lik...</td>\n      <td>1</td>\n    </tr>\n    <tr>\n      <th>2</th>\n      <td>dont give them your money booked paid and rece...</td>\n      <td>0</td>\n    </tr>\n    <tr>\n      <th>3</th>\n      <td>best airline in the world best airline in the ...</td>\n      <td>1</td>\n    </tr>\n    <tr>\n      <th>4</th>\n      <td>premium economy seating on singapore airlines ...</td>\n      <td>0</td>\n    </tr>\n  </tbody>\n</table>\n</div>"
     },
     "execution_count": 73,
     "metadata": {},
     "output_type": "execute_result"
    }
   ],
   "source": [
    "# Уберем из текста пунктуацию и приведём к нижнему регистру\n",
    "def preprocess_text(text):\n",
    "    text = re.sub(r\"[^\\w\\s]\", '', text.lower())\n",
    "    return text\n",
    "\n",
    "data['comment'] = data['comment'].apply(preprocess_text)\n",
    "data.head()"
   ],
   "metadata": {
    "collapsed": false,
    "ExecuteTime": {
     "end_time": "2024-04-26T21:07:18.172627Z",
     "start_time": "2024-04-26T21:07:17.937281Z"
    }
   },
   "id": "795bdc880fea7af7",
   "execution_count": 73
  },
  {
   "cell_type": "code",
   "outputs": [
    {
     "name": "stdout",
     "output_type": "stream",
     "text": [
      "Requirement already satisfied: nltk in /Users/timurabdulkadirov/anaconda3/lib/python3.10/site-packages (3.7)\r\n",
      "Requirement already satisfied: regex>=2021.8.3 in /Users/timurabdulkadirov/anaconda3/lib/python3.10/site-packages (from nltk) (2022.7.9)\r\n",
      "Requirement already satisfied: tqdm in /Users/timurabdulkadirov/anaconda3/lib/python3.10/site-packages (from nltk) (4.64.1)\r\n",
      "Requirement already satisfied: joblib in /Users/timurabdulkadirov/anaconda3/lib/python3.10/site-packages (from nltk) (1.1.1)\r\n",
      "Requirement already satisfied: click in /Users/timurabdulkadirov/anaconda3/lib/python3.10/site-packages (from nltk) (8.0.4)\r\n"
     ]
    }
   ],
   "source": [
    "!pip install nltk"
   ],
   "metadata": {
    "collapsed": false,
    "ExecuteTime": {
     "end_time": "2024-04-26T21:07:23.411209Z",
     "start_time": "2024-04-26T21:07:18.120160Z"
    }
   },
   "id": "682badd9d0912e01",
   "execution_count": 74
  },
  {
   "cell_type": "code",
   "outputs": [
    {
     "data": {
      "text/plain": "                                             comment  mark\n0  ok we use thi airlin to go from singapor to lo...     0\n1  the servic in suit class make one feel like vi...     1\n2  dont give them your money book paid and receiv...     0\n3  best airlin in the world best airlin in the wo...     1\n4  premium economi seat on singapor airlin not wo...     0",
      "text/html": "<div>\n<style scoped>\n    .dataframe tbody tr th:only-of-type {\n        vertical-align: middle;\n    }\n\n    .dataframe tbody tr th {\n        vertical-align: top;\n    }\n\n    .dataframe thead th {\n        text-align: right;\n    }\n</style>\n<table border=\"1\" class=\"dataframe\">\n  <thead>\n    <tr style=\"text-align: right;\">\n      <th></th>\n      <th>comment</th>\n      <th>mark</th>\n    </tr>\n  </thead>\n  <tbody>\n    <tr>\n      <th>0</th>\n      <td>ok we use thi airlin to go from singapor to lo...</td>\n      <td>0</td>\n    </tr>\n    <tr>\n      <th>1</th>\n      <td>the servic in suit class make one feel like vi...</td>\n      <td>1</td>\n    </tr>\n    <tr>\n      <th>2</th>\n      <td>dont give them your money book paid and receiv...</td>\n      <td>0</td>\n    </tr>\n    <tr>\n      <th>3</th>\n      <td>best airlin in the world best airlin in the wo...</td>\n      <td>1</td>\n    </tr>\n    <tr>\n      <th>4</th>\n      <td>premium economi seat on singapor airlin not wo...</td>\n      <td>0</td>\n    </tr>\n  </tbody>\n</table>\n</div>"
     },
     "execution_count": 75,
     "metadata": {},
     "output_type": "execute_result"
    }
   ],
   "source": [
    "from nltk.stem.porter import *\n",
    "stemmer = PorterStemmer()\n",
    "\n",
    "def preprocess_sentence(text):\n",
    "    return ' '.join([stemmer.stem(word) for word in preprocess_text(text).split()])\n",
    "\n",
    "data['comment'] = data['comment'].apply(preprocess_sentence)\n",
    "data.head()"
   ],
   "metadata": {
    "collapsed": false,
    "ExecuteTime": {
     "end_time": "2024-04-26T21:07:37.915020Z",
     "start_time": "2024-04-26T21:07:23.429818Z"
    }
   },
   "id": "c3db683b3a292fe5",
   "execution_count": 75
  },
  {
   "cell_type": "code",
   "outputs": [],
   "source": [
    "# Воспользуемся BOW\n",
    "from sklearn.feature_extraction.text import CountVectorizer\n",
    "from sklearn.model_selection import train_test_split\n",
    "train, test = train_test_split(data)\n",
    "bow = CountVectorizer()\n",
    "train_x = bow.fit_transform(train['comment']).toarray()\n",
    "test_x = bow.transform(test['comment']).toarray()"
   ],
   "metadata": {
    "collapsed": false,
    "ExecuteTime": {
     "end_time": "2024-04-26T21:07:39.271666Z",
     "start_time": "2024-04-26T21:07:37.916692Z"
    }
   },
   "id": "a720e2721a3f0f11",
   "execution_count": 76
  },
  {
   "cell_type": "code",
   "outputs": [
    {
     "name": "stderr",
     "output_type": "stream",
     "text": [
      "/Users/timurabdulkadirov/anaconda3/lib/python3.10/site-packages/sklearn/linear_model/_logistic.py:458: ConvergenceWarning: lbfgs failed to converge (status=1):\n",
      "STOP: TOTAL NO. of ITERATIONS REACHED LIMIT.\n",
      "\n",
      "Increase the number of iterations (max_iter) or scale the data as shown in:\n",
      "    https://scikit-learn.org/stable/modules/preprocessing.html\n",
      "Please also refer to the documentation for alternative solver options:\n",
      "    https://scikit-learn.org/stable/modules/linear_model.html#logistic-regression\n",
      "  n_iter_i = _check_optimize_result(\n"
     ]
    }
   ],
   "source": [
    "from sklearn.linear_model import LogisticRegression\n",
    "from sklearn.metrics import f1_score\n",
    "model = LogisticRegression()\n",
    "train_y = train['mark']\n",
    "test_y = test['mark']\n",
    "model.fit(train_x, train_y)\n",
    "test_pred = model.predict(test_x)"
   ],
   "metadata": {
    "collapsed": false,
    "ExecuteTime": {
     "end_time": "2024-04-26T21:07:52.692807Z",
     "start_time": "2024-04-26T21:07:39.284920Z"
    }
   },
   "id": "a3c2a4dde1fcb19e",
   "execution_count": 77
  },
  {
   "cell_type": "code",
   "outputs": [
    {
     "name": "stdout",
     "output_type": "stream",
     "text": [
      "f1_score = 0.9415566927013197\n"
     ]
    }
   ],
   "source": [
    "f1_met = f1_score(test_pred, test_y)\n",
    "print(f\"f1_score = {f1_met}\")"
   ],
   "metadata": {
    "collapsed": false,
    "ExecuteTime": {
     "end_time": "2024-04-26T21:07:52.747989Z",
     "start_time": "2024-04-26T21:07:52.710949Z"
    }
   },
   "id": "ac1ce12ae78e44eb",
   "execution_count": 78
  },
  {
   "cell_type": "markdown",
   "source": [
    "# Medium"
   ],
   "metadata": {
    "collapsed": false
   },
   "id": "8540f6f8d7b44424"
  },
  {
   "cell_type": "code",
   "outputs": [
    {
     "name": "stderr",
     "output_type": "stream",
     "text": [
      "[nltk_data] Downloading package stopwords to\n",
      "[nltk_data]     /Users/timurabdulkadirov/nltk_data...\n",
      "[nltk_data]   Package stopwords is already up-to-date!\n"
     ]
    },
    {
     "data": {
      "text/plain": "                                             comment  mark\n0  ok use thi airlin go singapor london heathrow ...     0\n1  servic suit class make one feel like vip servi...     1\n2  dont give money book paid receiv email confirm...     0\n3  best airlin world best airlin world seat food ...     1\n4  premium economi seat singapor airlin worth mon...     0",
      "text/html": "<div>\n<style scoped>\n    .dataframe tbody tr th:only-of-type {\n        vertical-align: middle;\n    }\n\n    .dataframe tbody tr th {\n        vertical-align: top;\n    }\n\n    .dataframe thead th {\n        text-align: right;\n    }\n</style>\n<table border=\"1\" class=\"dataframe\">\n  <thead>\n    <tr style=\"text-align: right;\">\n      <th></th>\n      <th>comment</th>\n      <th>mark</th>\n    </tr>\n  </thead>\n  <tbody>\n    <tr>\n      <th>0</th>\n      <td>ok use thi airlin go singapor london heathrow ...</td>\n      <td>0</td>\n    </tr>\n    <tr>\n      <th>1</th>\n      <td>servic suit class make one feel like vip servi...</td>\n      <td>1</td>\n    </tr>\n    <tr>\n      <th>2</th>\n      <td>dont give money book paid receiv email confirm...</td>\n      <td>0</td>\n    </tr>\n    <tr>\n      <th>3</th>\n      <td>best airlin world best airlin world seat food ...</td>\n      <td>1</td>\n    </tr>\n    <tr>\n      <th>4</th>\n      <td>premium economi seat singapor airlin worth mon...</td>\n      <td>0</td>\n    </tr>\n  </tbody>\n</table>\n</div>"
     },
     "execution_count": 79,
     "metadata": {},
     "output_type": "execute_result"
    }
   ],
   "source": [
    "# Удалим стоп-слова\n",
    "import nltk\n",
    "from nltk.corpus import stopwords\n",
    "nltk.download('stopwords')\n",
    "stop_words = set(stopwords.words('english'))\n",
    "\n",
    "def delete_stop_words(text):\n",
    "    return ' '.join([word for word in text.split() if word not in stop_words])\n",
    "\n",
    "data['comment'] = data['comment'].apply(delete_stop_words)\n",
    "data.head()"
   ],
   "metadata": {
    "collapsed": false,
    "ExecuteTime": {
     "end_time": "2024-04-26T21:07:52.988584Z",
     "start_time": "2024-04-26T21:07:52.756119Z"
    }
   },
   "id": "511876ab368f0bdb",
   "execution_count": 79
  },
  {
   "cell_type": "code",
   "outputs": [],
   "source": [
    "train, test = train_test_split(data)\n",
    "bow = CountVectorizer()\n",
    "train_x = bow.fit_transform(train['comment']).toarray()\n",
    "test_x = bow.transform(test['comment']).toarray()\n",
    "train_y = train['mark']\n",
    "test_y = test['mark']\n",
    "\n",
    "# Попробуем несколько разных моделей:"
   ],
   "metadata": {
    "collapsed": false,
    "ExecuteTime": {
     "end_time": "2024-04-26T21:07:54.209362Z",
     "start_time": "2024-04-26T21:07:53.003034Z"
    }
   },
   "id": "f769251c261ffd82",
   "execution_count": 80
  },
  {
   "cell_type": "code",
   "outputs": [
    {
     "name": "stderr",
     "output_type": "stream",
     "text": [
      "/Users/timurabdulkadirov/anaconda3/lib/python3.10/site-packages/sklearn/linear_model/_logistic.py:458: ConvergenceWarning: lbfgs failed to converge (status=1):\n",
      "STOP: TOTAL NO. of ITERATIONS REACHED LIMIT.\n",
      "\n",
      "Increase the number of iterations (max_iter) or scale the data as shown in:\n",
      "    https://scikit-learn.org/stable/modules/preprocessing.html\n",
      "Please also refer to the documentation for alternative solver options:\n",
      "    https://scikit-learn.org/stable/modules/linear_model.html#logistic-regression\n",
      "  n_iter_i = _check_optimize_result(\n"
     ]
    },
    {
     "name": "stdout",
     "output_type": "stream",
     "text": [
      "f1_score = 0.9389721627408993\n"
     ]
    }
   ],
   "source": [
    "model_lr = LogisticRegression()\n",
    "model_lr.fit(train_x, train_y)\n",
    "test_pred = model_lr.predict(test_x)\n",
    "f1_met = f1_score(test_pred, test_y)\n",
    "print(f\"f1_score = {f1_met}\")"
   ],
   "metadata": {
    "collapsed": false,
    "ExecuteTime": {
     "end_time": "2024-04-26T21:08:05.855743Z",
     "start_time": "2024-04-26T21:07:54.217319Z"
    }
   },
   "id": "174db5049c43e387",
   "execution_count": 81
  },
  {
   "cell_type": "code",
   "outputs": [
    {
     "name": "stdout",
     "output_type": "stream",
     "text": [
      "f1_score = 0.8812834224598931\n"
     ]
    }
   ],
   "source": [
    "from sklearn.tree import DecisionTreeClassifier\n",
    "model_dtc = DecisionTreeClassifier()\n",
    "model_dtc.fit(train_x, train_y)\n",
    "test_pred = model_dtc.predict(test_x)\n",
    "f1_met = f1_score(test_pred, test_y)\n",
    "print(f\"f1_score = {f1_met}\")"
   ],
   "metadata": {
    "collapsed": false,
    "ExecuteTime": {
     "end_time": "2024-04-26T21:08:49.454462Z",
     "start_time": "2024-04-26T21:08:05.850434Z"
    }
   },
   "id": "164536c2665c175",
   "execution_count": 82
  },
  {
   "cell_type": "code",
   "outputs": [
    {
     "name": "stderr",
     "output_type": "stream",
     "text": [
      "/Users/timurabdulkadirov/anaconda3/lib/python3.10/site-packages/sklearn/svm/_base.py:299: ConvergenceWarning: Solver terminated early (max_iter=50).  Consider pre-processing your data with StandardScaler or MinMaxScaler.\n",
      "  warnings.warn(\n"
     ]
    },
    {
     "name": "stdout",
     "output_type": "stream",
     "text": [
      "f1_score = 0.8427773343974463\n"
     ]
    }
   ],
   "source": [
    "from sklearn.svm import SVC\n",
    "model_svm = SVC(max_iter=50)\n",
    "model_svm.fit(train_x, train_y)\n",
    "test_pred = model_svm.predict(test_x)\n",
    "f1_met = f1_score(test_pred, test_y)\n",
    "print(f\"f1_score = {f1_met}\")"
   ],
   "metadata": {
    "collapsed": false,
    "ExecuteTime": {
     "end_time": "2024-04-26T21:09:02.888244Z",
     "start_time": "2024-04-26T21:08:49.464518Z"
    }
   },
   "id": "92d9a2918f61615d",
   "execution_count": 83
  },
  {
   "cell_type": "code",
   "outputs": [
    {
     "name": "stdout",
     "output_type": "stream",
     "text": [
      "good comment\n",
      "bad comment\n"
     ]
    }
   ],
   "source": [
    "# Лучше всего предсказывает LogisticRegression, протестируем её на моих собственных отзывах\n",
    "\n",
    "bad_review = 'I used the services of this airline last year and was disappointed by such unacceptable behavior of the staff'\n",
    "good_review = 'When choosing this airline, I initially treated it with distrust, but later I was pleasantly surprised by the good service and the absence of accidents'\n",
    "\n",
    "\n",
    "def test_predictions(text):\n",
    "    text = preprocess_text(text)\n",
    "    text = preprocess_sentence(text)\n",
    "    text = delete_stop_words(text)\n",
    "    df = pd.DataFrame()\n",
    "    df['comment'] = [text]\n",
    "    bow_2 = CountVectorizer()\n",
    "    train_x = bow_2.fit_transform(train['comment']).toarray()\n",
    "    test_x = bow_2.transform(df['comment']).toarray()\n",
    "    test_pred = model_lr.predict(test_x)\n",
    "    return 'good comment' if test_pred[0] else 'bad comment'\n",
    "\n",
    "print(test_predictions(good_review))\n",
    "print(test_predictions(bad_review)) "
   ],
   "metadata": {
    "collapsed": false,
    "ExecuteTime": {
     "end_time": "2024-04-26T21:09:04.444252Z",
     "start_time": "2024-04-26T21:09:02.940053Z"
    }
   },
   "id": "e16f2f6bc883fd29",
   "execution_count": 84
  },
  {
   "cell_type": "code",
   "outputs": [],
   "source": [],
   "metadata": {
    "collapsed": false,
    "ExecuteTime": {
     "end_time": "2024-04-26T21:09:04.445472Z",
     "start_time": "2024-04-26T21:09:04.438533Z"
    }
   },
   "id": "bc19d31bcf4dec42",
   "execution_count": 84
  }
 ],
 "metadata": {
  "kernelspec": {
   "display_name": "Python 3",
   "language": "python",
   "name": "python3"
  },
  "language_info": {
   "codemirror_mode": {
    "name": "ipython",
    "version": 2
   },
   "file_extension": ".py",
   "mimetype": "text/x-python",
   "name": "python",
   "nbconvert_exporter": "python",
   "pygments_lexer": "ipython2",
   "version": "2.7.6"
  }
 },
 "nbformat": 4,
 "nbformat_minor": 5
}
