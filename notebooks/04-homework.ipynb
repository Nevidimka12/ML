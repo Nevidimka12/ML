{
 "cells": [
  {
   "cell_type": "markdown",
   "source": [
    "# Easy"
   ],
   "metadata": {
    "collapsed": false
   },
   "id": "b54933c86dee9032"
  },
  {
   "cell_type": "code",
   "outputs": [],
   "source": [
    "import pandas as pd\n",
    "import numpy as np\n",
    "import os\n",
    "\n",
    "from sklearn.model_selection import GridSearchCV, RandomizedSearchCV\n",
    "from sklearn.ensemble import RandomForestClassifier\n",
    "from sklearn.tree import DecisionTreeClassifier\n",
    "from sklearn.metrics import mean_squared_error, r2_score, accuracy_score, balanced_accuracy_score, f1_score, precision_score, recall_score, mean_absolute_error,  make_scorer\n",
    "from sklearn.model_selection import train_test_split"
   ],
   "metadata": {
    "collapsed": false,
    "ExecuteTime": {
     "end_time": "2024-03-20T04:01:34.480798Z",
     "start_time": "2024-03-20T04:01:34.468263Z"
    }
   },
   "id": "c252b59ed5fc9039",
   "execution_count": 12
  },
  {
   "cell_type": "code",
   "outputs": [
    {
     "name": "stdout",
     "output_type": "stream",
     "text": [
      "  model  year  price transmission  mileage fuelType  tax   mpg  engineSize\n",
      "0    A1  2017  12500       Manual    15735   Petrol  150  55.4         1.4\n",
      "1    A6  2016  16500    Automatic    36203   Diesel   20  64.2         2.0\n",
      "2    A1  2016  11000       Manual    29946   Petrol   30  55.4         1.4\n",
      "3    A4  2017  16800    Automatic    25952   Diesel  145  67.3         2.0\n",
      "4    A3  2019  17300       Manual     1998   Petrol  145  49.6         1.0\n"
     ]
    }
   ],
   "source": [
    "df = pd.read_csv(\"data/audi.csv\")\n",
    "print(df.head())"
   ],
   "metadata": {
    "collapsed": false,
    "ExecuteTime": {
     "end_time": "2024-03-20T03:43:08.098053Z",
     "start_time": "2024-03-20T03:43:08.058598Z"
    }
   },
   "id": "752238783f62014e",
   "execution_count": 2
  },
  {
   "cell_type": "code",
   "outputs": [
    {
     "name": "stdout",
     "output_type": "stream",
     "text": [
      "   year  price  mileage  tax   mpg  engineSize\n",
      "0  2017  12500    15735  150  55.4         1.4\n",
      "1  2016  16500    36203   20  64.2         2.0\n",
      "2  2016  11000    29946   30  55.4         1.4\n",
      "3  2017  16800    25952  145  67.3         2.0\n",
      "4  2019  17300     1998  145  49.6         1.0\n"
     ]
    }
   ],
   "source": [
    "df = df.drop(columns=['model', 'transmission', 'fuelType'])\n",
    "print(df.head())"
   ],
   "metadata": {
    "collapsed": false,
    "ExecuteTime": {
     "end_time": "2024-03-20T03:43:08.102434Z",
     "start_time": "2024-03-20T03:43:08.097103Z"
    }
   },
   "id": "84d9bd1282776244",
   "execution_count": 3
  },
  {
   "cell_type": "code",
   "outputs": [],
   "source": [
    "X = df.drop(columns='price')\n",
    "Y = df['price']\n",
    "\n",
    "x_train, x_test, y_train, y_test = train_test_split(X, Y, random_state=0)"
   ],
   "metadata": {
    "collapsed": false,
    "ExecuteTime": {
     "end_time": "2024-03-20T03:43:08.123621Z",
     "start_time": "2024-03-20T03:43:08.107332Z"
    }
   },
   "id": "95609e420f0bb99e",
   "execution_count": 4
  },
  {
   "cell_type": "code",
   "outputs": [],
   "source": [
    "model = DecisionTreeClassifier(random_state=10)\n",
    "model.fit(x_train, y_train)\n",
    "prediction = model.predict(x_test)"
   ],
   "metadata": {
    "collapsed": false,
    "ExecuteTime": {
     "end_time": "2024-03-20T03:43:09.044339Z",
     "start_time": "2024-03-20T03:43:08.115225Z"
    }
   },
   "id": "621867950a4d63e5",
   "execution_count": 5
  },
  {
   "cell_type": "code",
   "outputs": [
    {
     "name": "stdout",
     "output_type": "stream",
     "text": [
      "r2_score = 0.8652360700494247\n"
     ]
    }
   ],
   "source": [
    "r2 = r2_score(y_test, prediction)\n",
    "print(f'r2_score = {r2}')"
   ],
   "metadata": {
    "collapsed": false,
    "ExecuteTime": {
     "end_time": "2024-03-20T03:43:09.052396Z",
     "start_time": "2024-03-20T03:43:09.043492Z"
    }
   },
   "id": "c53e1ecc16152907",
   "execution_count": 6
  },
  {
   "cell_type": "code",
   "outputs": [
    {
     "name": "stdout",
     "output_type": "stream",
     "text": [
      "            0         1\n",
      "0        year  0.067918\n",
      "1     mileage  0.651864\n",
      "2         tax  0.068616\n",
      "3         mpg  0.182659\n",
      "4  engineSize  0.028942\n"
     ]
    }
   ],
   "source": [
    "print(pd.DataFrame(zip(X.columns, model.feature_importances_)))"
   ],
   "metadata": {
    "collapsed": false,
    "ExecuteTime": {
     "end_time": "2024-03-20T03:43:09.063688Z",
     "start_time": "2024-03-20T03:43:09.052173Z"
    }
   },
   "id": "ade62e512b9935f2",
   "execution_count": 7
  },
  {
   "cell_type": "markdown",
   "source": [
    "# Вывод:"
   ],
   "metadata": {
    "collapsed": false
   },
   "id": "df1dc96755755620"
  },
  {
   "cell_type": "markdown",
   "source": [
    "Самым важным признаком оказался пробег, на втором месте идёт потребление топлива, остальные признаки имеют сильно меньший вклад."
   ],
   "metadata": {
    "collapsed": false
   },
   "id": "c2c941c79276db15"
  },
  {
   "cell_type": "markdown",
   "source": [
    "# Medium"
   ],
   "metadata": {
    "collapsed": false
   },
   "id": "d2e0725c4fefebe7"
  },
  {
   "cell_type": "code",
   "outputs": [
    {
     "data": {
      "text/plain": "          model  mileage  price fuelType transmission  engineSize  year  \\\n0         Corsa    25796   8500   Petrol       Manual         1.4  2016   \n1         Corsa     3953   9990   Petrol       Manual         1.4  2019   \n2         Corsa    52243   4350   Petrol       Manual         1.2  2013   \n3         Corsa    40584   5995   Petrol       Manual         1.2  2014   \n4         Corsa     7905   9495   Petrol       Manual         1.4  2018   \n...         ...      ...    ...      ...          ...         ...   ...   \n27126   C Class    12794  23994   Petrol    Automatic         1.5  2019   \n27127   C Class    10284  23444   Diesel    Automatic         2.0  2019   \n27128   C Class     6064  24999   Diesel    Automatic         2.0  2019   \n27129   B Class    15257  19344   Petrol    Automatic         1.3  2019   \n27130   B Class     2500  24699   Diesel    Automatic         2.0  2020   \n\n          brand  \n0      vauxhall  \n1      vauxhall  \n2      vauxhall  \n3      vauxhall  \n4      vauxhall  \n...         ...  \n27126      merc  \n27127      merc  \n27128      merc  \n27129      merc  \n27130      merc  \n\n[27131 rows x 8 columns]",
      "text/html": "<div>\n<style scoped>\n    .dataframe tbody tr th:only-of-type {\n        vertical-align: middle;\n    }\n\n    .dataframe tbody tr th {\n        vertical-align: top;\n    }\n\n    .dataframe thead th {\n        text-align: right;\n    }\n</style>\n<table border=\"1\" class=\"dataframe\">\n  <thead>\n    <tr style=\"text-align: right;\">\n      <th></th>\n      <th>model</th>\n      <th>mileage</th>\n      <th>price</th>\n      <th>fuelType</th>\n      <th>transmission</th>\n      <th>engineSize</th>\n      <th>year</th>\n      <th>brand</th>\n    </tr>\n  </thead>\n  <tbody>\n    <tr>\n      <th>0</th>\n      <td>Corsa</td>\n      <td>25796</td>\n      <td>8500</td>\n      <td>Petrol</td>\n      <td>Manual</td>\n      <td>1.4</td>\n      <td>2016</td>\n      <td>vauxhall</td>\n    </tr>\n    <tr>\n      <th>1</th>\n      <td>Corsa</td>\n      <td>3953</td>\n      <td>9990</td>\n      <td>Petrol</td>\n      <td>Manual</td>\n      <td>1.4</td>\n      <td>2019</td>\n      <td>vauxhall</td>\n    </tr>\n    <tr>\n      <th>2</th>\n      <td>Corsa</td>\n      <td>52243</td>\n      <td>4350</td>\n      <td>Petrol</td>\n      <td>Manual</td>\n      <td>1.2</td>\n      <td>2013</td>\n      <td>vauxhall</td>\n    </tr>\n    <tr>\n      <th>3</th>\n      <td>Corsa</td>\n      <td>40584</td>\n      <td>5995</td>\n      <td>Petrol</td>\n      <td>Manual</td>\n      <td>1.2</td>\n      <td>2014</td>\n      <td>vauxhall</td>\n    </tr>\n    <tr>\n      <th>4</th>\n      <td>Corsa</td>\n      <td>7905</td>\n      <td>9495</td>\n      <td>Petrol</td>\n      <td>Manual</td>\n      <td>1.4</td>\n      <td>2018</td>\n      <td>vauxhall</td>\n    </tr>\n    <tr>\n      <th>...</th>\n      <td>...</td>\n      <td>...</td>\n      <td>...</td>\n      <td>...</td>\n      <td>...</td>\n      <td>...</td>\n      <td>...</td>\n      <td>...</td>\n    </tr>\n    <tr>\n      <th>27126</th>\n      <td>C Class</td>\n      <td>12794</td>\n      <td>23994</td>\n      <td>Petrol</td>\n      <td>Automatic</td>\n      <td>1.5</td>\n      <td>2019</td>\n      <td>merc</td>\n    </tr>\n    <tr>\n      <th>27127</th>\n      <td>C Class</td>\n      <td>10284</td>\n      <td>23444</td>\n      <td>Diesel</td>\n      <td>Automatic</td>\n      <td>2.0</td>\n      <td>2019</td>\n      <td>merc</td>\n    </tr>\n    <tr>\n      <th>27128</th>\n      <td>C Class</td>\n      <td>6064</td>\n      <td>24999</td>\n      <td>Diesel</td>\n      <td>Automatic</td>\n      <td>2.0</td>\n      <td>2019</td>\n      <td>merc</td>\n    </tr>\n    <tr>\n      <th>27129</th>\n      <td>B Class</td>\n      <td>15257</td>\n      <td>19344</td>\n      <td>Petrol</td>\n      <td>Automatic</td>\n      <td>1.3</td>\n      <td>2019</td>\n      <td>merc</td>\n    </tr>\n    <tr>\n      <th>27130</th>\n      <td>B Class</td>\n      <td>2500</td>\n      <td>24699</td>\n      <td>Diesel</td>\n      <td>Automatic</td>\n      <td>2.0</td>\n      <td>2020</td>\n      <td>merc</td>\n    </tr>\n  </tbody>\n</table>\n<p>27131 rows × 8 columns</p>\n</div>"
     },
     "execution_count": 8,
     "metadata": {},
     "output_type": "execute_result"
    }
   ],
   "source": [
    "data_folder = 'data'\n",
    "all_df = pd.DataFrame()\n",
    "common_columns = None # Оказалось, что столбцы в разных файлах иногда немного отличаются, так что придется оставить только общие для всех\n",
    "\n",
    "for file_name in os.listdir(data_folder):\n",
    "    if file_name.endswith('.csv'):  \n",
    "        brand_name = os.path.splitext(file_name)[0]\n",
    "        file_path = os.path.join(data_folder, file_name)\n",
    "        # Данных очень много, поэтому возьмём четверть\n",
    "        df = pd.read_csv(file_path, skiprows=lambda x: x % 4 != 0)\n",
    "        if common_columns is None:\n",
    "            common_columns = set(df.columns)\n",
    "        else:\n",
    "            common_columns = common_columns.intersection(df.columns)\n",
    "        df['brand'] = brand_name\n",
    "        all_df = pd.concat([all_df, df], ignore_index=True)\n",
    "\n",
    "\n",
    "common_columns = list(common_columns)\n",
    "all_df = all_df[common_columns + ['brand']]\n",
    "\n",
    "all_df"
   ],
   "metadata": {
    "collapsed": false,
    "ExecuteTime": {
     "end_time": "2024-03-20T03:43:09.235013Z",
     "start_time": "2024-03-20T03:43:09.058175Z"
    }
   },
   "id": "a05891810a9694bf",
   "execution_count": 8
  },
  {
   "cell_type": "code",
   "outputs": [
    {
     "data": {
      "text/plain": "      year  price  mileage  tax   mpg  engineSize  model_ A Class  \\\n0     2016  61948    16000  325  30.4         4.0               0   \n1     2012  10948   107000  265  36.7         3.5               0   \n2     2020  26980     1000  145  62.8         1.5               1   \n3     2017  15890    24841  150  68.9         1.5               0   \n4     2014  15701    20498   20  64.2         2.1               0   \n...    ...    ...      ...  ...   ...         ...             ...   \n3274  2019  23994    12794  145  46.3         1.5               0   \n3275  2019  23444    10284  145  61.4         2.0               0   \n3276  2019  24999     6064  145  61.4         2.0               0   \n3277  2019  19344    15257  145  45.6         1.3               0   \n3278  2020  24699     2500  145  55.4         2.0               0   \n\n      model_ B Class  model_ C Class  model_ CL Class  ...  model_220  \\\n0                  0               0                0  ...          0   \n1                  0               0                0  ...          0   \n2                  0               0                0  ...          0   \n3                  1               0                0  ...          0   \n4                  0               1                0  ...          0   \n...              ...             ...              ...  ...        ...   \n3274               0               1                0  ...          0   \n3275               0               1                0  ...          0   \n3276               0               1                0  ...          0   \n3277               1               0                0  ...          0   \n3278               1               0                0  ...          0   \n\n      model_230  fuelType_Diesel  fuelType_Hybrid  fuelType_Other  \\\n0             0                0                0               0   \n1             0                0                0               0   \n2             0                1                0               0   \n3             0                1                0               0   \n4             0                1                0               0   \n...         ...              ...              ...             ...   \n3274          0                0                0               0   \n3275          0                1                0               0   \n3276          0                1                0               0   \n3277          0                0                0               0   \n3278          0                1                0               0   \n\n      fuelType_Petrol  transmission_Automatic  transmission_Manual  \\\n0                   1                       1                    0   \n1                   1                       1                    0   \n2                   0                       1                    0   \n3                   0                       1                    0   \n4                   0                       1                    0   \n...               ...                     ...                  ...   \n3274                1                       1                    0   \n3275                0                       1                    0   \n3276                0                       1                    0   \n3277                1                       1                    0   \n3278                0                       1                    0   \n\n      transmission_Semi-Auto  brand_merc  \n0                          0           1  \n1                          0           1  \n2                          0           1  \n3                          0           1  \n4                          0           1  \n...                      ...         ...  \n3274                       0           1  \n3275                       0           1  \n3276                       0           1  \n3277                       0           1  \n3278                       0           1  \n\n[3279 rows x 38 columns]",
      "text/html": "<div>\n<style scoped>\n    .dataframe tbody tr th:only-of-type {\n        vertical-align: middle;\n    }\n\n    .dataframe tbody tr th {\n        vertical-align: top;\n    }\n\n    .dataframe thead th {\n        text-align: right;\n    }\n</style>\n<table border=\"1\" class=\"dataframe\">\n  <thead>\n    <tr style=\"text-align: right;\">\n      <th></th>\n      <th>year</th>\n      <th>price</th>\n      <th>mileage</th>\n      <th>tax</th>\n      <th>mpg</th>\n      <th>engineSize</th>\n      <th>model_ A Class</th>\n      <th>model_ B Class</th>\n      <th>model_ C Class</th>\n      <th>model_ CL Class</th>\n      <th>...</th>\n      <th>model_220</th>\n      <th>model_230</th>\n      <th>fuelType_Diesel</th>\n      <th>fuelType_Hybrid</th>\n      <th>fuelType_Other</th>\n      <th>fuelType_Petrol</th>\n      <th>transmission_Automatic</th>\n      <th>transmission_Manual</th>\n      <th>transmission_Semi-Auto</th>\n      <th>brand_merc</th>\n    </tr>\n  </thead>\n  <tbody>\n    <tr>\n      <th>0</th>\n      <td>2016</td>\n      <td>61948</td>\n      <td>16000</td>\n      <td>325</td>\n      <td>30.4</td>\n      <td>4.0</td>\n      <td>0</td>\n      <td>0</td>\n      <td>0</td>\n      <td>0</td>\n      <td>...</td>\n      <td>0</td>\n      <td>0</td>\n      <td>0</td>\n      <td>0</td>\n      <td>0</td>\n      <td>1</td>\n      <td>1</td>\n      <td>0</td>\n      <td>0</td>\n      <td>1</td>\n    </tr>\n    <tr>\n      <th>1</th>\n      <td>2012</td>\n      <td>10948</td>\n      <td>107000</td>\n      <td>265</td>\n      <td>36.7</td>\n      <td>3.5</td>\n      <td>0</td>\n      <td>0</td>\n      <td>0</td>\n      <td>0</td>\n      <td>...</td>\n      <td>0</td>\n      <td>0</td>\n      <td>0</td>\n      <td>0</td>\n      <td>0</td>\n      <td>1</td>\n      <td>1</td>\n      <td>0</td>\n      <td>0</td>\n      <td>1</td>\n    </tr>\n    <tr>\n      <th>2</th>\n      <td>2020</td>\n      <td>26980</td>\n      <td>1000</td>\n      <td>145</td>\n      <td>62.8</td>\n      <td>1.5</td>\n      <td>1</td>\n      <td>0</td>\n      <td>0</td>\n      <td>0</td>\n      <td>...</td>\n      <td>0</td>\n      <td>0</td>\n      <td>1</td>\n      <td>0</td>\n      <td>0</td>\n      <td>0</td>\n      <td>1</td>\n      <td>0</td>\n      <td>0</td>\n      <td>1</td>\n    </tr>\n    <tr>\n      <th>3</th>\n      <td>2017</td>\n      <td>15890</td>\n      <td>24841</td>\n      <td>150</td>\n      <td>68.9</td>\n      <td>1.5</td>\n      <td>0</td>\n      <td>1</td>\n      <td>0</td>\n      <td>0</td>\n      <td>...</td>\n      <td>0</td>\n      <td>0</td>\n      <td>1</td>\n      <td>0</td>\n      <td>0</td>\n      <td>0</td>\n      <td>1</td>\n      <td>0</td>\n      <td>0</td>\n      <td>1</td>\n    </tr>\n    <tr>\n      <th>4</th>\n      <td>2014</td>\n      <td>15701</td>\n      <td>20498</td>\n      <td>20</td>\n      <td>64.2</td>\n      <td>2.1</td>\n      <td>0</td>\n      <td>0</td>\n      <td>1</td>\n      <td>0</td>\n      <td>...</td>\n      <td>0</td>\n      <td>0</td>\n      <td>1</td>\n      <td>0</td>\n      <td>0</td>\n      <td>0</td>\n      <td>1</td>\n      <td>0</td>\n      <td>0</td>\n      <td>1</td>\n    </tr>\n    <tr>\n      <th>...</th>\n      <td>...</td>\n      <td>...</td>\n      <td>...</td>\n      <td>...</td>\n      <td>...</td>\n      <td>...</td>\n      <td>...</td>\n      <td>...</td>\n      <td>...</td>\n      <td>...</td>\n      <td>...</td>\n      <td>...</td>\n      <td>...</td>\n      <td>...</td>\n      <td>...</td>\n      <td>...</td>\n      <td>...</td>\n      <td>...</td>\n      <td>...</td>\n      <td>...</td>\n      <td>...</td>\n    </tr>\n    <tr>\n      <th>3274</th>\n      <td>2019</td>\n      <td>23994</td>\n      <td>12794</td>\n      <td>145</td>\n      <td>46.3</td>\n      <td>1.5</td>\n      <td>0</td>\n      <td>0</td>\n      <td>1</td>\n      <td>0</td>\n      <td>...</td>\n      <td>0</td>\n      <td>0</td>\n      <td>0</td>\n      <td>0</td>\n      <td>0</td>\n      <td>1</td>\n      <td>1</td>\n      <td>0</td>\n      <td>0</td>\n      <td>1</td>\n    </tr>\n    <tr>\n      <th>3275</th>\n      <td>2019</td>\n      <td>23444</td>\n      <td>10284</td>\n      <td>145</td>\n      <td>61.4</td>\n      <td>2.0</td>\n      <td>0</td>\n      <td>0</td>\n      <td>1</td>\n      <td>0</td>\n      <td>...</td>\n      <td>0</td>\n      <td>0</td>\n      <td>1</td>\n      <td>0</td>\n      <td>0</td>\n      <td>0</td>\n      <td>1</td>\n      <td>0</td>\n      <td>0</td>\n      <td>1</td>\n    </tr>\n    <tr>\n      <th>3276</th>\n      <td>2019</td>\n      <td>24999</td>\n      <td>6064</td>\n      <td>145</td>\n      <td>61.4</td>\n      <td>2.0</td>\n      <td>0</td>\n      <td>0</td>\n      <td>1</td>\n      <td>0</td>\n      <td>...</td>\n      <td>0</td>\n      <td>0</td>\n      <td>1</td>\n      <td>0</td>\n      <td>0</td>\n      <td>0</td>\n      <td>1</td>\n      <td>0</td>\n      <td>0</td>\n      <td>1</td>\n    </tr>\n    <tr>\n      <th>3277</th>\n      <td>2019</td>\n      <td>19344</td>\n      <td>15257</td>\n      <td>145</td>\n      <td>45.6</td>\n      <td>1.3</td>\n      <td>0</td>\n      <td>1</td>\n      <td>0</td>\n      <td>0</td>\n      <td>...</td>\n      <td>0</td>\n      <td>0</td>\n      <td>0</td>\n      <td>0</td>\n      <td>0</td>\n      <td>1</td>\n      <td>1</td>\n      <td>0</td>\n      <td>0</td>\n      <td>1</td>\n    </tr>\n    <tr>\n      <th>3278</th>\n      <td>2020</td>\n      <td>24699</td>\n      <td>2500</td>\n      <td>145</td>\n      <td>55.4</td>\n      <td>2.0</td>\n      <td>0</td>\n      <td>1</td>\n      <td>0</td>\n      <td>0</td>\n      <td>...</td>\n      <td>0</td>\n      <td>0</td>\n      <td>1</td>\n      <td>0</td>\n      <td>0</td>\n      <td>0</td>\n      <td>1</td>\n      <td>0</td>\n      <td>0</td>\n      <td>1</td>\n    </tr>\n  </tbody>\n</table>\n<p>3279 rows × 38 columns</p>\n</div>"
     },
     "execution_count": 9,
     "metadata": {},
     "output_type": "execute_result"
    }
   ],
   "source": [
    "df_encoded = pd.get_dummies(df, columns=['model', 'fuelType', 'transmission', 'brand'])\n",
    "df_encoded"
   ],
   "metadata": {
    "collapsed": false,
    "ExecuteTime": {
     "end_time": "2024-03-20T03:43:09.267089Z",
     "start_time": "2024-03-20T03:43:09.228372Z"
    }
   },
   "id": "880c324f60182e1b",
   "execution_count": 9
  },
  {
   "cell_type": "code",
   "outputs": [
    {
     "name": "stderr",
     "output_type": "stream",
     "text": [
      "/Users/timurabdulkadirov/anaconda3/lib/python3.10/site-packages/sklearn/model_selection/_split.py:700: UserWarning: The least populated class in y has only 1 members, which is less than n_splits=5.\n",
      "  warnings.warn(\n"
     ]
    },
    {
     "data": {
      "text/plain": "RandomForestClassifier(max_depth=150, n_estimators=500)",
      "text/html": "<style>#sk-container-id-3 {color: black;background-color: white;}#sk-container-id-3 pre{padding: 0;}#sk-container-id-3 div.sk-toggleable {background-color: white;}#sk-container-id-3 label.sk-toggleable__label {cursor: pointer;display: block;width: 100%;margin-bottom: 0;padding: 0.3em;box-sizing: border-box;text-align: center;}#sk-container-id-3 label.sk-toggleable__label-arrow:before {content: \"▸\";float: left;margin-right: 0.25em;color: #696969;}#sk-container-id-3 label.sk-toggleable__label-arrow:hover:before {color: black;}#sk-container-id-3 div.sk-estimator:hover label.sk-toggleable__label-arrow:before {color: black;}#sk-container-id-3 div.sk-toggleable__content {max-height: 0;max-width: 0;overflow: hidden;text-align: left;background-color: #f0f8ff;}#sk-container-id-3 div.sk-toggleable__content pre {margin: 0.2em;color: black;border-radius: 0.25em;background-color: #f0f8ff;}#sk-container-id-3 input.sk-toggleable__control:checked~div.sk-toggleable__content {max-height: 200px;max-width: 100%;overflow: auto;}#sk-container-id-3 input.sk-toggleable__control:checked~label.sk-toggleable__label-arrow:before {content: \"▾\";}#sk-container-id-3 div.sk-estimator input.sk-toggleable__control:checked~label.sk-toggleable__label {background-color: #d4ebff;}#sk-container-id-3 div.sk-label input.sk-toggleable__control:checked~label.sk-toggleable__label {background-color: #d4ebff;}#sk-container-id-3 input.sk-hidden--visually {border: 0;clip: rect(1px 1px 1px 1px);clip: rect(1px, 1px, 1px, 1px);height: 1px;margin: -1px;overflow: hidden;padding: 0;position: absolute;width: 1px;}#sk-container-id-3 div.sk-estimator {font-family: monospace;background-color: #f0f8ff;border: 1px dotted black;border-radius: 0.25em;box-sizing: border-box;margin-bottom: 0.5em;}#sk-container-id-3 div.sk-estimator:hover {background-color: #d4ebff;}#sk-container-id-3 div.sk-parallel-item::after {content: \"\";width: 100%;border-bottom: 1px solid gray;flex-grow: 1;}#sk-container-id-3 div.sk-label:hover label.sk-toggleable__label {background-color: #d4ebff;}#sk-container-id-3 div.sk-serial::before {content: \"\";position: absolute;border-left: 1px solid gray;box-sizing: border-box;top: 0;bottom: 0;left: 50%;z-index: 0;}#sk-container-id-3 div.sk-serial {display: flex;flex-direction: column;align-items: center;background-color: white;padding-right: 0.2em;padding-left: 0.2em;position: relative;}#sk-container-id-3 div.sk-item {position: relative;z-index: 1;}#sk-container-id-3 div.sk-parallel {display: flex;align-items: stretch;justify-content: center;background-color: white;position: relative;}#sk-container-id-3 div.sk-item::before, #sk-container-id-3 div.sk-parallel-item::before {content: \"\";position: absolute;border-left: 1px solid gray;box-sizing: border-box;top: 0;bottom: 0;left: 50%;z-index: -1;}#sk-container-id-3 div.sk-parallel-item {display: flex;flex-direction: column;z-index: 1;position: relative;background-color: white;}#sk-container-id-3 div.sk-parallel-item:first-child::after {align-self: flex-end;width: 50%;}#sk-container-id-3 div.sk-parallel-item:last-child::after {align-self: flex-start;width: 50%;}#sk-container-id-3 div.sk-parallel-item:only-child::after {width: 0;}#sk-container-id-3 div.sk-dashed-wrapped {border: 1px dashed gray;margin: 0 0.4em 0.5em 0.4em;box-sizing: border-box;padding-bottom: 0.4em;background-color: white;}#sk-container-id-3 div.sk-label label {font-family: monospace;font-weight: bold;display: inline-block;line-height: 1.2em;}#sk-container-id-3 div.sk-label-container {text-align: center;}#sk-container-id-3 div.sk-container {/* jupyter's `normalize.less` sets `[hidden] { display: none; }` but bootstrap.min.css set `[hidden] { display: none !important; }` so we also need the `!important` here to be able to override the default hidden behavior on the sphinx rendered scikit-learn.org. See: https://github.com/scikit-learn/scikit-learn/issues/21755 */display: inline-block !important;position: relative;}#sk-container-id-3 div.sk-text-repr-fallback {display: none;}</style><div id=\"sk-container-id-3\" class=\"sk-top-container\"><div class=\"sk-text-repr-fallback\"><pre>RandomForestClassifier(max_depth=150, n_estimators=500)</pre><b>In a Jupyter environment, please rerun this cell to show the HTML representation or trust the notebook. <br />On GitHub, the HTML representation is unable to render, please try loading this page with nbviewer.org.</b></div><div class=\"sk-container\" hidden><div class=\"sk-item\"><div class=\"sk-estimator sk-toggleable\"><input class=\"sk-toggleable__control sk-hidden--visually\" id=\"sk-estimator-id-3\" type=\"checkbox\" checked><label for=\"sk-estimator-id-3\" class=\"sk-toggleable__label sk-toggleable__label-arrow\">RandomForestClassifier</label><div class=\"sk-toggleable__content\"><pre>RandomForestClassifier(max_depth=150, n_estimators=500)</pre></div></div></div></div></div>"
     },
     "execution_count": 14,
     "metadata": {},
     "output_type": "execute_result"
    }
   ],
   "source": [
    "X = df_encoded.drop(columns='price')\n",
    "Y = df_encoded['price']\n",
    "x_train, x_test, y_train, y_test = train_test_split(X, Y, random_state=10)\n",
    "params = {\n",
    "    'n_estimators': [100, 500],\n",
    "    'max_depth': [100, 150],\n",
    "    'criterion': ['gini', 'entropy']\n",
    "}\n",
    "\n",
    "search = GridSearchCV(RandomForestClassifier(), params, scoring= make_scorer(r2_score))\n",
    "search.fit(x_train, y_train)\n",
    "search.best_estimator_"
   ],
   "metadata": {
    "collapsed": false,
    "ExecuteTime": {
     "end_time": "2024-03-20T04:19:38.777731Z",
     "start_time": "2024-03-20T04:06:53.480836Z"
    }
   },
   "id": "dffa6711c7e62da2",
   "execution_count": 14
  },
  {
   "cell_type": "code",
   "outputs": [
    {
     "name": "stdout",
     "output_type": "stream",
     "text": [
      "Все результаты GridSearchCV:\n"
     ]
    },
    {
     "data": {
      "text/plain": "  param_max_depth param_n_estimators param_criterion  mean_test_score  \\\n0             100                100            gini         0.843986   \n1             100                500            gini         0.837787   \n2             150                100            gini         0.854462   \n3             150                500            gini         0.856497   \n4             100                100         entropy         0.819692   \n5             100                500         entropy         0.800938   \n6             150                100         entropy         0.793461   \n7             150                500         entropy         0.815372   \n\n   rank_test_score  \n0                3  \n1                4  \n2                2  \n3                1  \n4                5  \n5                7  \n6                8  \n7                6  ",
      "text/html": "<div>\n<style scoped>\n    .dataframe tbody tr th:only-of-type {\n        vertical-align: middle;\n    }\n\n    .dataframe tbody tr th {\n        vertical-align: top;\n    }\n\n    .dataframe thead th {\n        text-align: right;\n    }\n</style>\n<table border=\"1\" class=\"dataframe\">\n  <thead>\n    <tr style=\"text-align: right;\">\n      <th></th>\n      <th>param_max_depth</th>\n      <th>param_n_estimators</th>\n      <th>param_criterion</th>\n      <th>mean_test_score</th>\n      <th>rank_test_score</th>\n    </tr>\n  </thead>\n  <tbody>\n    <tr>\n      <th>0</th>\n      <td>100</td>\n      <td>100</td>\n      <td>gini</td>\n      <td>0.843986</td>\n      <td>3</td>\n    </tr>\n    <tr>\n      <th>1</th>\n      <td>100</td>\n      <td>500</td>\n      <td>gini</td>\n      <td>0.837787</td>\n      <td>4</td>\n    </tr>\n    <tr>\n      <th>2</th>\n      <td>150</td>\n      <td>100</td>\n      <td>gini</td>\n      <td>0.854462</td>\n      <td>2</td>\n    </tr>\n    <tr>\n      <th>3</th>\n      <td>150</td>\n      <td>500</td>\n      <td>gini</td>\n      <td>0.856497</td>\n      <td>1</td>\n    </tr>\n    <tr>\n      <th>4</th>\n      <td>100</td>\n      <td>100</td>\n      <td>entropy</td>\n      <td>0.819692</td>\n      <td>5</td>\n    </tr>\n    <tr>\n      <th>5</th>\n      <td>100</td>\n      <td>500</td>\n      <td>entropy</td>\n      <td>0.800938</td>\n      <td>7</td>\n    </tr>\n    <tr>\n      <th>6</th>\n      <td>150</td>\n      <td>100</td>\n      <td>entropy</td>\n      <td>0.793461</td>\n      <td>8</td>\n    </tr>\n    <tr>\n      <th>7</th>\n      <td>150</td>\n      <td>500</td>\n      <td>entropy</td>\n      <td>0.815372</td>\n      <td>6</td>\n    </tr>\n  </tbody>\n</table>\n</div>"
     },
     "execution_count": 18,
     "metadata": {},
     "output_type": "execute_result"
    }
   ],
   "source": [
    "results_df = pd.DataFrame(search.cv_results_)\n",
    "results_df = results_df[['param_max_depth', 'param_n_estimators', 'param_criterion', 'mean_test_score', 'rank_test_score']]\n",
    "# Вывод всех результатов поиска\n",
    "print(\"Все результаты GridSearchCV:\")\n",
    "results_df"
   ],
   "metadata": {
    "collapsed": false,
    "ExecuteTime": {
     "end_time": "2024-03-20T04:25:55.500964Z",
     "start_time": "2024-03-20T04:25:55.474139Z"
    }
   },
   "id": "475cc408d49a6ebc",
   "execution_count": 18
  },
  {
   "cell_type": "markdown",
   "source": [
    "# Вывод:"
   ],
   "metadata": {
    "collapsed": false
   },
   "id": "fe6de1ef812f543c"
  },
  {
   "cell_type": "markdown",
   "source": [
    "Лучшие результаты показывают модели с критерием Джини, среди них лучего всего себя показывают модели с более высокой глубиной, количество деревьев дает улучшение только при более высокой глубине, иначе ухудшает результат"
   ],
   "metadata": {
    "collapsed": false
   },
   "id": "3b7db81aee74efd4"
  }
 ],
 "metadata": {
  "kernelspec": {
   "display_name": "Python 3",
   "language": "python",
   "name": "python3"
  },
  "language_info": {
   "codemirror_mode": {
    "name": "ipython",
    "version": 2
   },
   "file_extension": ".py",
   "mimetype": "text/x-python",
   "name": "python",
   "nbconvert_exporter": "python",
   "pygments_lexer": "ipython2",
   "version": "2.7.6"
  }
 },
 "nbformat": 4,
 "nbformat_minor": 5
}
