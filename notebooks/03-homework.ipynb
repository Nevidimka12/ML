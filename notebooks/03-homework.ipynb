{
 "cells": [
  {
   "cell_type": "markdown",
   "source": [
    "# Easy "
   ],
   "metadata": {
    "collapsed": false
   },
   "id": "a76f8170166079e"
  },
  {
   "cell_type": "code",
   "outputs": [],
   "source": [
    "import numpy as np\n",
    "import random\n",
    "import pandas as pd\n",
    "import matplotlib.pyplot as plt\n",
    "\n",
    "from sklearn.datasets import load_digits\n",
    "from sklearn.linear_model import LogisticRegression\n",
    "from sklearn.metrics import accuracy_score, confusion_matrix, precision_score, recall_score, f1_score\n",
    "from sklearn.model_selection import train_test_split\n",
    "from matplotlib.colors import ListedColormap\n",
    "from sklearn.neighbors import KNeighborsClassifier\n",
    "from sklearn.naive_bayes import GaussianNB\n",
    "from sklearn.svm import SVC\n",
    "import seaborn as sns"
   ],
   "metadata": {
    "collapsed": false,
    "ExecuteTime": {
     "end_time": "2024-03-05T20:17:35.010495Z",
     "start_time": "2024-03-05T20:17:35.002980Z"
    }
   },
   "id": "1c63eed6778a474",
   "execution_count": 46
  },
  {
   "cell_type": "code",
   "outputs": [
    {
     "data": {
      "text/plain": "{'coords': array([[  6,   5,  21,  20],\n        [  6,   6,  22,  22],\n        [  5,   6,  22,  23],\n        ...,\n        [ 17,  15, 178, 155],\n        [ 17,  15, 183, 160],\n        [ 20,  18, 211, 184]], dtype=uint8),\n 'labels': array([41, 41, 41, ..., 25, 25, 25], dtype=uint8),\n 'features': array([[[[ 28,  25,  24],\n          [ 27,  24,  23],\n          [ 27,  24,  22],\n          ...,\n          [ 32,  28,  24],\n          [ 31,  27,  25],\n          [ 31,  27,  26]],\n \n         [[ 29,  26,  25],\n          [ 27,  25,  23],\n          [ 27,  25,  23],\n          ...,\n          [ 32,  28,  24],\n          [ 31,  27,  24],\n          [ 30,  27,  25]],\n \n         [[ 28,  26,  26],\n          [ 27,  25,  23],\n          [ 26,  25,  23],\n          ...,\n          [ 32,  28,  24],\n          [ 31,  27,  24],\n          [ 30,  27,  25]],\n \n         ...,\n \n         [[ 27,  24,  23],\n          [ 28,  25,  24],\n          [ 30,  25,  24],\n          ...,\n          [ 27,  24,  23],\n          [ 28,  24,  22],\n          [ 29,  25,  22]],\n \n         [[ 28,  23,  23],\n          [ 29,  24,  24],\n          [ 31,  25,  24],\n          ...,\n          [ 27,  24,  23],\n          [ 28,  24,  22],\n          [ 28,  24,  21]],\n \n         [[ 29,  23,  23],\n          [ 30,  24,  24],\n          [ 32,  24,  23],\n          ...,\n          [ 27,  24,  22],\n          [ 27,  23,  21],\n          [ 26,  22,  20]]],\n \n \n        [[[ 28,  24,  24],\n          [ 26,  23,  23],\n          [ 27,  24,  24],\n          ...,\n          [ 31,  28,  26],\n          [ 31,  28,  27],\n          [ 32,  28,  27]],\n \n         [[ 27,  24,  24],\n          [ 27,  24,  24],\n          [ 28,  25,  24],\n          ...,\n          [ 31,  27,  25],\n          [ 31,  27,  26],\n          [ 33,  29,  27]],\n \n         [[ 26,  24,  24],\n          [ 26,  24,  24],\n          [ 27,  24,  23],\n          ...,\n          [ 31,  26,  25],\n          [ 31,  27,  26],\n          [ 33,  29,  27]],\n \n         ...,\n \n         [[ 28,  25,  23],\n          [ 30,  27,  24],\n          [ 30,  27,  24],\n          ...,\n          [ 27,  24,  22],\n          [ 27,  24,  22],\n          [ 28,  24,  22]],\n \n         [[ 27,  24,  22],\n          [ 29,  26,  23],\n          [ 31,  26,  24],\n          ...,\n          [ 26,  23,  21],\n          [ 27,  24,  22],\n          [ 28,  25,  23]],\n \n         [[ 28,  24,  23],\n          [ 28,  24,  22],\n          [ 29,  24,  22],\n          ...,\n          [ 27,  23,  22],\n          [ 27,  24,  23],\n          [ 29,  26,  25]]],\n \n \n        [[[ 29,  25,  25],\n          [ 29,  26,  26],\n          [ 30,  27,  27],\n          ...,\n          [ 31,  27,  24],\n          [ 31,  28,  25],\n          [ 32,  29,  27]],\n \n         [[ 27,  24,  24],\n          [ 27,  25,  25],\n          [ 28,  26,  26],\n          ...,\n          [ 31,  27,  23],\n          [ 32,  28,  25],\n          [ 33,  30,  27]],\n \n         [[ 27,  24,  24],\n          [ 28,  26,  26],\n          [ 29,  27,  27],\n          ...,\n          [ 32,  28,  24],\n          [ 32,  28,  24],\n          [ 33,  29,  26]],\n \n         ...,\n \n         [[ 28,  26,  22],\n          [ 29,  26,  21],\n          [ 31,  26,  22],\n          ...,\n          [ 29,  24,  21],\n          [ 28,  23,  20],\n          [ 28,  23,  22]],\n \n         [[ 27,  26,  23],\n          [ 28,  25,  21],\n          [ 30,  25,  22],\n          ...,\n          [ 28,  23,  21],\n          [ 27,  22,  20],\n          [ 28,  24,  22]],\n \n         [[ 29,  26,  23],\n          [ 28,  24,  21],\n          [ 29,  24,  21],\n          ...,\n          [ 29,  25,  23],\n          [ 28,  24,  22],\n          [ 30,  26,  24]]],\n \n \n        ...,\n \n \n        [[[ 51,  67,  86],\n          [ 55,  59,  71],\n          [ 75,  81,  92],\n          ...,\n          [250, 248, 243],\n          [207, 212, 233],\n          [121, 116, 140]],\n \n         [[ 35,  42,  49],\n          [ 48,  47,  51],\n          [ 91,  96, 113],\n          ...,\n          [220, 224, 226],\n          [169, 177, 187],\n          [ 84,  87, 100]],\n \n         [[ 27,  26,  29],\n          [ 41,  38,  39],\n          [ 55,  64,  78],\n          ...,\n          [122, 143, 160],\n          [ 97, 104, 129],\n          [ 59,  59,  56]],\n \n         ...,\n \n         [[ 24,  23,  27],\n          [ 21,  20,  27],\n          [ 20,  19,  22],\n          ...,\n          [ 76,  79,  83],\n          [ 54,  64,  77],\n          [ 45,  51,  65]],\n \n         [[ 31,  31,  33],\n          [ 22,  23,  29],\n          [ 20,  18,  21],\n          ...,\n          [ 66,  67,  84],\n          [ 56,  65,  74],\n          [ 45,  55,  73]],\n \n         [[ 28,  28,  30],\n          [ 22,  21,  25],\n          [ 19,  18,  19],\n          ...,\n          [ 67,  63,  76],\n          [ 39,  45,  55],\n          [ 32,  37,  47]]],\n \n \n        [[[ 82,  78,  96],\n          [120, 126, 148],\n          [112, 125, 146],\n          ...,\n          [185, 182, 177],\n          [204, 210, 215],\n          [132, 114, 121]],\n \n         [[ 74,  77,  93],\n          [171, 174, 185],\n          [137, 164, 184],\n          ...,\n          [180, 181, 187],\n          [198, 200, 213],\n          [ 79,  85,  85]],\n \n         [[ 54,  50,  56],\n          [100, 106, 118],\n          [117, 132, 158],\n          ...,\n          [157, 153, 160],\n          [176, 183, 199],\n          [ 88,  80,  82]],\n \n         ...,\n \n         [[ 22,  21,  22],\n          [ 20,  19,  19],\n          [ 18,  16,  19],\n          ...,\n          [ 50,  50,  60],\n          [ 37,  43,  52],\n          [ 30,  41,  59]],\n \n         [[ 18,  16,  18],\n          [ 19,  17,  18],\n          [ 19,  18,  21],\n          ...,\n          [ 36,  44,  60],\n          [ 33,  36,  48],\n          [ 36,  43,  61]],\n \n         [[ 18,  17,  20],\n          [ 21,  20,  23],\n          [ 24,  22,  25],\n          ...,\n          [ 32,  34,  41],\n          [ 45,  42,  48],\n          [ 41,  43,  52]]],\n \n \n        [[[ 69,  79,  96],\n          [ 24,  26,  28],\n          [ 40,  42,  45],\n          ...,\n          [225, 234, 237],\n          [151, 161, 166],\n          [164, 162, 169]],\n \n         [[ 99, 110, 125],\n          [ 36,  41,  47],\n          [ 63,  56,  62],\n          ...,\n          [197, 216, 224],\n          [154, 163, 169],\n          [164, 163, 159]],\n \n         [[104, 107, 113],\n          [ 34,  37,  40],\n          [ 72,  70,  77],\n          ...,\n          [223, 237, 235],\n          [181, 192, 198],\n          [166, 167, 159]],\n \n         ...,\n \n         [[ 21,  20,  23],\n          [ 23,  24,  30],\n          [ 19,  20,  24],\n          ...,\n          [ 45,  47,  54],\n          [ 58,  62,  70],\n          [ 58,  70,  82]],\n \n         [[ 18,  17,  21],\n          [ 19,  19,  24],\n          [ 18,  18,  23],\n          ...,\n          [ 36,  36,  40],\n          [ 58,  59,  70],\n          [ 61,  69,  81]],\n \n         [[ 17,  16,  19],\n          [ 16,  15,  18],\n          [ 16,  15,  18],\n          ...,\n          [ 40,  40,  44],\n          [ 57,  62,  73],\n          [ 57,  68,  80]]]], dtype=uint8),\n 'sizes': array([[ 26,  25],\n        [ 27,  27],\n        [ 27,  28],\n        ...,\n        [194, 169],\n        [201, 175],\n        [230, 201]], dtype=uint8)}"
     },
     "execution_count": 47,
     "metadata": {},
     "output_type": "execute_result"
    }
   ],
   "source": [
    "data = pd.read_pickle(\"../train.pickle\")\n",
    "data"
   ],
   "metadata": {
    "collapsed": false,
    "ExecuteTime": {
     "end_time": "2024-03-05T20:17:35.412567Z",
     "start_time": "2024-03-05T20:17:35.018665Z"
    }
   },
   "id": "30344533a249e26e",
   "execution_count": 47
  },
  {
   "cell_type": "code",
   "outputs": [
    {
     "name": "stderr",
     "output_type": "stream",
     "text": [
      "/Users/timurabdulkadirov/anaconda3/lib/python3.10/site-packages/sklearn/linear_model/_logistic.py:458: ConvergenceWarning: lbfgs failed to converge (status=1):\n",
      "STOP: TOTAL NO. of ITERATIONS REACHED LIMIT.\n",
      "\n",
      "Increase the number of iterations (max_iter) or scale the data as shown in:\n",
      "    https://scikit-learn.org/stable/modules/preprocessing.html\n",
      "Please also refer to the documentation for alternative solver options:\n",
      "    https://scikit-learn.org/stable/modules/linear_model.html#logistic-regression\n",
      "  n_iter_i = _check_optimize_result(\n"
     ]
    },
    {
     "name": "stdout",
     "output_type": "stream",
     "text": [
      "Accuracy = 0.9222222222222223\n",
      "Precision = 0.9088243085823897\n",
      "Recall = 0.9062076191035061\n",
      "F1-score = 0.9067728150513251\n"
     ]
    }
   ],
   "source": [
    "x = data['features']\n",
    "y = data['labels']\n",
    "x_train, x_test, y_train, y_test = train_test_split(x, y, test_size=0.3, random_state=32)\n",
    "\n",
    "model = LogisticRegression()\n",
    "model.fit(x_train.reshape(len(x_train), -1), y_train)\n",
    "y_pred = model.predict(x_test.reshape(len(x_test),-1))\n",
    "\n",
    "accuracy = accuracy_score(y_test, y_pred)\n",
    "print(f\"Accuracy = {accuracy}\")\n",
    "\n",
    "precision = precision_score(y_test, y_pred, average='macro')\n",
    "print(f\"Precision = {precision}\")\n",
    "\n",
    "\n",
    "recall = recall_score(y_test, y_pred, average='macro')\n",
    "print(f\"Recall = {recall}\")\n",
    "\n",
    "\n",
    "f1 = f1_score(y_test, y_pred, average='macro')\n",
    "print(f\"F1-score = {f1}\")"
   ],
   "metadata": {
    "collapsed": false,
    "ExecuteTime": {
     "end_time": "2024-03-05T20:18:07.937500Z",
     "start_time": "2024-03-05T20:17:35.414963Z"
    }
   },
   "id": "6e1279d070a8de33",
   "execution_count": 48
  },
  {
   "cell_type": "code",
   "outputs": [
    {
     "data": {
      "text/plain": "    ClassId                                           SignName\n0         0                               Speed limit (20km/h)\n1         1                               Speed limit (30km/h)\n2         2                               Speed limit (50km/h)\n3         3                               Speed limit (60km/h)\n4         4                               Speed limit (70km/h)\n5         5                               Speed limit (80km/h)\n6         6                        End of speed limit (80km/h)\n7         7                              Speed limit (100km/h)\n8         8                              Speed limit (120km/h)\n9         9                                         No passing\n10       10       No passing for vehicles over 3.5 metric tons\n11       11              Right-of-way at the next intersection\n12       12                                      Priority road\n13       13                                              Yield\n14       14                                               Stop\n15       15                                        No vehicles\n16       16           Vehicles over 3.5 metric tons prohibited\n17       17                                           No entry\n18       18                                    General caution\n19       19                        Dangerous curve to the left\n20       20                       Dangerous curve to the right\n21       21                                       Double curve\n22       22                                         Bumpy road\n23       23                                      Slippery road\n24       24                          Road narrows on the right\n25       25                                          Road work\n26       26                                    Traffic signals\n27       27                                        Pedestrians\n28       28                                  Children crossing\n29       29                                  Bicycles crossing\n30       30                                 Beware of ice/snow\n31       31                              Wild animals crossing\n32       32                End of all speed and passing limits\n33       33                                   Turn right ahead\n34       34                                    Turn left ahead\n35       35                                         Ahead only\n36       36                               Go straight or right\n37       37                                Go straight or left\n38       38                                         Keep right\n39       39                                          Keep left\n40       40                               Roundabout mandatory\n41       41                                  End of no passing\n42       42  End of no passing by vehicles over 3.5 metric ...",
      "text/html": "<div>\n<style scoped>\n    .dataframe tbody tr th:only-of-type {\n        vertical-align: middle;\n    }\n\n    .dataframe tbody tr th {\n        vertical-align: top;\n    }\n\n    .dataframe thead th {\n        text-align: right;\n    }\n</style>\n<table border=\"1\" class=\"dataframe\">\n  <thead>\n    <tr style=\"text-align: right;\">\n      <th></th>\n      <th>ClassId</th>\n      <th>SignName</th>\n    </tr>\n  </thead>\n  <tbody>\n    <tr>\n      <th>0</th>\n      <td>0</td>\n      <td>Speed limit (20km/h)</td>\n    </tr>\n    <tr>\n      <th>1</th>\n      <td>1</td>\n      <td>Speed limit (30km/h)</td>\n    </tr>\n    <tr>\n      <th>2</th>\n      <td>2</td>\n      <td>Speed limit (50km/h)</td>\n    </tr>\n    <tr>\n      <th>3</th>\n      <td>3</td>\n      <td>Speed limit (60km/h)</td>\n    </tr>\n    <tr>\n      <th>4</th>\n      <td>4</td>\n      <td>Speed limit (70km/h)</td>\n    </tr>\n    <tr>\n      <th>5</th>\n      <td>5</td>\n      <td>Speed limit (80km/h)</td>\n    </tr>\n    <tr>\n      <th>6</th>\n      <td>6</td>\n      <td>End of speed limit (80km/h)</td>\n    </tr>\n    <tr>\n      <th>7</th>\n      <td>7</td>\n      <td>Speed limit (100km/h)</td>\n    </tr>\n    <tr>\n      <th>8</th>\n      <td>8</td>\n      <td>Speed limit (120km/h)</td>\n    </tr>\n    <tr>\n      <th>9</th>\n      <td>9</td>\n      <td>No passing</td>\n    </tr>\n    <tr>\n      <th>10</th>\n      <td>10</td>\n      <td>No passing for vehicles over 3.5 metric tons</td>\n    </tr>\n    <tr>\n      <th>11</th>\n      <td>11</td>\n      <td>Right-of-way at the next intersection</td>\n    </tr>\n    <tr>\n      <th>12</th>\n      <td>12</td>\n      <td>Priority road</td>\n    </tr>\n    <tr>\n      <th>13</th>\n      <td>13</td>\n      <td>Yield</td>\n    </tr>\n    <tr>\n      <th>14</th>\n      <td>14</td>\n      <td>Stop</td>\n    </tr>\n    <tr>\n      <th>15</th>\n      <td>15</td>\n      <td>No vehicles</td>\n    </tr>\n    <tr>\n      <th>16</th>\n      <td>16</td>\n      <td>Vehicles over 3.5 metric tons prohibited</td>\n    </tr>\n    <tr>\n      <th>17</th>\n      <td>17</td>\n      <td>No entry</td>\n    </tr>\n    <tr>\n      <th>18</th>\n      <td>18</td>\n      <td>General caution</td>\n    </tr>\n    <tr>\n      <th>19</th>\n      <td>19</td>\n      <td>Dangerous curve to the left</td>\n    </tr>\n    <tr>\n      <th>20</th>\n      <td>20</td>\n      <td>Dangerous curve to the right</td>\n    </tr>\n    <tr>\n      <th>21</th>\n      <td>21</td>\n      <td>Double curve</td>\n    </tr>\n    <tr>\n      <th>22</th>\n      <td>22</td>\n      <td>Bumpy road</td>\n    </tr>\n    <tr>\n      <th>23</th>\n      <td>23</td>\n      <td>Slippery road</td>\n    </tr>\n    <tr>\n      <th>24</th>\n      <td>24</td>\n      <td>Road narrows on the right</td>\n    </tr>\n    <tr>\n      <th>25</th>\n      <td>25</td>\n      <td>Road work</td>\n    </tr>\n    <tr>\n      <th>26</th>\n      <td>26</td>\n      <td>Traffic signals</td>\n    </tr>\n    <tr>\n      <th>27</th>\n      <td>27</td>\n      <td>Pedestrians</td>\n    </tr>\n    <tr>\n      <th>28</th>\n      <td>28</td>\n      <td>Children crossing</td>\n    </tr>\n    <tr>\n      <th>29</th>\n      <td>29</td>\n      <td>Bicycles crossing</td>\n    </tr>\n    <tr>\n      <th>30</th>\n      <td>30</td>\n      <td>Beware of ice/snow</td>\n    </tr>\n    <tr>\n      <th>31</th>\n      <td>31</td>\n      <td>Wild animals crossing</td>\n    </tr>\n    <tr>\n      <th>32</th>\n      <td>32</td>\n      <td>End of all speed and passing limits</td>\n    </tr>\n    <tr>\n      <th>33</th>\n      <td>33</td>\n      <td>Turn right ahead</td>\n    </tr>\n    <tr>\n      <th>34</th>\n      <td>34</td>\n      <td>Turn left ahead</td>\n    </tr>\n    <tr>\n      <th>35</th>\n      <td>35</td>\n      <td>Ahead only</td>\n    </tr>\n    <tr>\n      <th>36</th>\n      <td>36</td>\n      <td>Go straight or right</td>\n    </tr>\n    <tr>\n      <th>37</th>\n      <td>37</td>\n      <td>Go straight or left</td>\n    </tr>\n    <tr>\n      <th>38</th>\n      <td>38</td>\n      <td>Keep right</td>\n    </tr>\n    <tr>\n      <th>39</th>\n      <td>39</td>\n      <td>Keep left</td>\n    </tr>\n    <tr>\n      <th>40</th>\n      <td>40</td>\n      <td>Roundabout mandatory</td>\n    </tr>\n    <tr>\n      <th>41</th>\n      <td>41</td>\n      <td>End of no passing</td>\n    </tr>\n    <tr>\n      <th>42</th>\n      <td>42</td>\n      <td>End of no passing by vehicles over 3.5 metric ...</td>\n    </tr>\n  </tbody>\n</table>\n</div>"
     },
     "execution_count": 49,
     "metadata": {},
     "output_type": "execute_result"
    }
   ],
   "source": [
    "label_names = pd.read_csv(\"../label_names.csv\")\n",
    "label_names"
   ],
   "metadata": {
    "collapsed": false,
    "ExecuteTime": {
     "end_time": "2024-03-05T20:18:07.956528Z",
     "start_time": "2024-03-05T20:18:07.939341Z"
    }
   },
   "id": "4a98972acd4a697f",
   "execution_count": 49
  },
  {
   "cell_type": "code",
   "outputs": [],
   "source": [
    "conf_matrix = confusion_matrix(y_test, y_pred)"
   ],
   "metadata": {
    "collapsed": false,
    "ExecuteTime": {
     "end_time": "2024-03-05T20:18:07.980392Z",
     "start_time": "2024-03-05T20:18:07.958742Z"
    }
   },
   "id": "b1d99b70053d2036",
   "execution_count": 50
  },
  {
   "cell_type": "code",
   "outputs": [
    {
     "name": "stdout",
     "output_type": "stream",
     "text": [
      "Most common errors:\n",
      "Sign: Speed limit (50km/h), Errors: 636\n",
      "Sign: Priority road, Errors: 579\n",
      "Sign: Speed limit (30km/h), Errors: 557\n",
      "Sign: Yield, Errors: 555\n",
      "Sign: Keep right, Errors: 546\n",
      "Sign: No passing for vehicles over 3.5 metric tons, Errors: 535\n",
      "Sign: Speed limit (70km/h), Errors: 531\n",
      "Sign: Speed limit (80km/h), Errors: 507\n",
      "Sign: Road work, Errors: 428\n",
      "Sign: No passing, Errors: 379\n"
     ]
    }
   ],
   "source": [
    "conf_matrix_df = pd.DataFrame(conf_matrix, index=label_names['ClassId'], columns=label_names['SignName'])\n",
    "\n",
    "most_common_errors = conf_matrix_df.sum(axis=1).nlargest(10)\n",
    "\n",
    "print(\"Most common errors:\")\n",
    "for class_id, error_count in most_common_errors.items():\n",
    "    sign_name = label_names[label_names['ClassId'] == class_id]['SignName'].values[0]\n",
    "    print(f\"Sign: {sign_name}, Errors: {error_count}\")"
   ],
   "metadata": {
    "collapsed": false,
    "ExecuteTime": {
     "end_time": "2024-03-05T20:18:08.010912Z",
     "start_time": "2024-03-05T20:18:07.970698Z"
    }
   },
   "id": "8439dc3675c358d1",
   "execution_count": 51
  },
  {
   "cell_type": "markdown",
   "source": [
    "Вывод: Определенные трудности есть с распознаванием знаков скоростного ограничения"
   ],
   "metadata": {
    "collapsed": false
   },
   "id": "49c56c324fdd7d79"
  },
  {
   "cell_type": "markdown",
   "source": [
    "# Medium"
   ],
   "metadata": {
    "collapsed": false
   },
   "id": "e56456f12756fab"
  },
  {
   "cell_type": "code",
   "outputs": [
    {
     "name": "stdout",
     "output_type": "stream",
     "text": [
      "Logistic Regression Accuracy = 0.9222222222222223\n",
      "Logistic Regression Precision = 0.9088243085823897\n",
      "Logistic Regression Recall = 0.9062076191035061\n",
      "Logistic Regression F1-score = 0.9067728150513251\n",
      "k-Nearest Neighbors Accuracy = 0.8670498084291188\n",
      "k-Nearest Neighbors Precision = 0.8918370746374027\n",
      "k-Nearest Neighbors Recall = 0.8640291037513265\n",
      "k-Nearest Neighbors F1-score = 0.8754013620523377\n"
     ]
    },
    {
     "name": "stderr",
     "output_type": "stream",
     "text": [
      "/Users/timurabdulkadirov/anaconda3/lib/python3.10/site-packages/sklearn/metrics/_classification.py:1344: UndefinedMetricWarning: Precision is ill-defined and being set to 0.0 in labels with no predicted samples. Use `zero_division` parameter to control this behavior.\n",
      "  _warn_prf(average, modifier, msg_start, len(result))\n"
     ]
    },
    {
     "name": "stdout",
     "output_type": "stream",
     "text": [
      "Naive Bayes Accuracy = 0.16762452107279693\n",
      "Naive Bayes Precision = 0.34914595341989524\n",
      "Naive Bayes Recall = 0.24310431596066587\n",
      "Naive Bayes F1-score = 0.1950041160199584\n"
     ]
    },
    {
     "name": "stderr",
     "output_type": "stream",
     "text": [
      "/Users/timurabdulkadirov/anaconda3/lib/python3.10/site-packages/sklearn/svm/_base.py:299: ConvergenceWarning: Solver terminated early (max_iter=100).  Consider pre-processing your data with StandardScaler or MinMaxScaler.\n",
      "  warnings.warn(\n"
     ]
    },
    {
     "name": "stdout",
     "output_type": "stream",
     "text": [
      "SVM (Linear Kernel) Accuracy = 0.7596743295019157\n",
      "SVM (Linear Kernel) Precision = 0.7835296235930955\n",
      "SVM (Linear Kernel) Recall = 0.8233780693918363\n",
      "SVM (Linear Kernel) F1-score = 0.7907165309591682\n"
     ]
    },
    {
     "name": "stderr",
     "output_type": "stream",
     "text": [
      "/Users/timurabdulkadirov/anaconda3/lib/python3.10/site-packages/sklearn/svm/_base.py:299: ConvergenceWarning: Solver terminated early (max_iter=100).  Consider pre-processing your data with StandardScaler or MinMaxScaler.\n",
      "  warnings.warn(\n"
     ]
    },
    {
     "name": "stdout",
     "output_type": "stream",
     "text": [
      "SVM (RBF Kernel) Accuracy = 0.4984674329501916\n",
      "SVM (RBF Kernel) Precision = 0.6805686257421997\n",
      "SVM (RBF Kernel) Recall = 0.6447827475937727\n",
      "SVM (RBF Kernel) F1-score = 0.6292326700309988\n"
     ]
    },
    {
     "name": "stderr",
     "output_type": "stream",
     "text": [
      "/Users/timurabdulkadirov/anaconda3/lib/python3.10/site-packages/sklearn/svm/_base.py:299: ConvergenceWarning: Solver terminated early (max_iter=100).  Consider pre-processing your data with StandardScaler or MinMaxScaler.\n",
      "  warnings.warn(\n"
     ]
    },
    {
     "name": "stdout",
     "output_type": "stream",
     "text": [
      "SVM (Poly Kernel) Accuracy = 0.4984674329501916\n",
      "SVM (Poly Kernel) Precision = 0.49005628657509637\n",
      "SVM (Poly Kernel) Recall = 0.3777616280583224\n",
      "SVM (Poly Kernel) F1-score = 0.3248195329125826\n"
     ]
    },
    {
     "name": "stderr",
     "output_type": "stream",
     "text": [
      "/Users/timurabdulkadirov/anaconda3/lib/python3.10/site-packages/sklearn/metrics/_classification.py:1344: UndefinedMetricWarning: Precision is ill-defined and being set to 0.0 in labels with no predicted samples. Use `zero_division` parameter to control this behavior.\n",
      "  _warn_prf(average, modifier, msg_start, len(result))\n"
     ]
    }
   ],
   "source": [
    "print(f\"Logistic Regression Accuracy = {accuracy}\")\n",
    "print(f\"Logistic Regression Precision = {precision}\")\n",
    "print(f\"Logistic Regression Recall = {recall}\")\n",
    "print(f\"Logistic Regression F1-score = {f1}\")\n",
    "\n",
    "knn_model = KNeighborsClassifier()\n",
    "knn_model.fit(x_train.reshape(len(x_train), -1), y_train)\n",
    "knn_y_pred = knn_model.predict(x_test.reshape(len(x_test), -1))\n",
    "knn_accuracy = accuracy_score(y_test, knn_y_pred)\n",
    "knn_precision = precision_score(y_test, knn_y_pred, average='macro')\n",
    "knn_recall = recall_score(y_test, knn_y_pred, average='macro')\n",
    "knn_f1 = f1_score(y_test, knn_y_pred, average='macro')\n",
    "print(f\"k-Nearest Neighbors Accuracy = {knn_accuracy}\")\n",
    "print(f\"k-Nearest Neighbors Precision = {knn_precision}\")\n",
    "print(f\"k-Nearest Neighbors Recall = {knn_recall}\")\n",
    "print(f\"k-Nearest Neighbors F1-score = {knn_f1}\")\n",
    "\n",
    "nb_model = GaussianNB()\n",
    "nb_model.fit(x_train.reshape(len(x_train), -1), y_train)\n",
    "nb_y_pred = nb_model.predict(x_test.reshape(len(x_test), -1))\n",
    "nb_accuracy = accuracy_score(y_test, nb_y_pred)\n",
    "nb_precision = precision_score(y_test, nb_y_pred, average='macro')\n",
    "nb_recall = recall_score(y_test, nb_y_pred, average='macro')\n",
    "nb_f1 = f1_score(y_test, nb_y_pred, average='macro')\n",
    "print(f\"Naive Bayes Accuracy = {nb_accuracy}\")\n",
    "print(f\"Naive Bayes Precision = {nb_precision}\")\n",
    "print(f\"Naive Bayes Recall = {nb_recall}\")\n",
    "print(f\"Naive Bayes F1-score = {nb_f1}\")\n",
    "\n",
    "svm_linear_model = SVC(kernel='linear', max_iter=100)\n",
    "svm_linear_model.fit(x_train.reshape(len(x_train), -1), y_train)\n",
    "svm_linear_y_pred = svm_linear_model.predict(x_test.reshape(len(x_test), -1))\n",
    "svm_linear_accuracy = accuracy_score(y_test, svm_linear_y_pred)\n",
    "svm_linear_precision = precision_score(y_test, svm_linear_y_pred, average='macro')\n",
    "svm_linear_recall = recall_score(y_test, svm_linear_y_pred, average='macro')\n",
    "svm_linear_f1 = f1_score(y_test, svm_linear_y_pred, average='macro')\n",
    "print(f\"SVM (Linear Kernel) Accuracy = {svm_linear_accuracy}\")\n",
    "print(f\"SVM (Linear Kernel) Precision = {svm_linear_precision}\")\n",
    "print(f\"SVM (Linear Kernel) Recall = {svm_linear_recall}\")\n",
    "print(f\"SVM (Linear Kernel) F1-score = {svm_linear_f1}\")\n",
    "\n",
    "\n",
    "svm_rbf_model = SVC(kernel='rbf', max_iter=100)\n",
    "svm_rbf_model.fit(x_train.reshape(len(x_train), -1), y_train)\n",
    "svm_rbf_y_pred = svm_rbf_model.predict(x_test.reshape(len(x_test), -1))\n",
    "svm_rbf_accuracy = accuracy_score(y_test, svm_rbf_y_pred)\n",
    "svm_rbf_precision = precision_score(y_test, svm_rbf_y_pred, average='macro')\n",
    "svm_rbf_recall = recall_score(y_test, svm_rbf_y_pred, average='macro')\n",
    "svm_rbf_f1 = f1_score(y_test, svm_rbf_y_pred, average='macro')\n",
    "print(f\"SVM (RBF Kernel) Accuracy = {svm_rbf_accuracy}\")\n",
    "print(f\"SVM (RBF Kernel) Precision = {svm_rbf_precision}\")\n",
    "print(f\"SVM (RBF Kernel) Recall = {svm_rbf_recall}\")\n",
    "print(f\"SVM (RBF Kernel) F1-score = {svm_rbf_f1}\")\n",
    "\n",
    "svm_poly_model = SVC(kernel='poly', max_iter=100)\n",
    "svm_poly_model.fit(x_train.reshape(len(x_train), -1), y_train)\n",
    "svm_poly_y_pred = svm_poly_model.predict(x_test.reshape(len(x_test), -1))\n",
    "svm_poly_accuracy = accuracy_score(y_test, svm_poly_y_pred)\n",
    "svm_poly_precision = precision_score(y_test, svm_poly_y_pred, average='macro')\n",
    "svm_poly_recall = recall_score(y_test, svm_poly_y_pred, average='macro')\n",
    "svm_poly_f1 = f1_score(y_test, svm_poly_y_pred, average='macro')\n",
    "print(f\"SVM (Poly Kernel) Accuracy = {svm_rbf_accuracy}\")\n",
    "print(f\"SVM (Poly Kernel) Precision = {svm_poly_precision}\")\n",
    "print(f\"SVM (Poly Kernel) Recall = {svm_poly_recall}\")\n",
    "print(f\"SVM (Poly Kernel) F1-score = {svm_poly_f1}\")"
   ],
   "metadata": {
    "collapsed": false,
    "ExecuteTime": {
     "end_time": "2024-03-05T20:43:55.013305Z",
     "start_time": "2024-03-05T20:18:07.982760Z"
    }
   },
   "id": "b1d3aa98c6025c2b",
   "execution_count": 52
  },
  {
   "cell_type": "markdown",
   "source": [
    "Лучше всех работает Логистическая регрессия. Хуже всего - НБК, скорее всего из-за ограниченных предположений (например, о независимости) "
   ],
   "metadata": {
    "collapsed": false
   },
   "id": "6492c817eba8b45b"
  }
 ],
 "metadata": {
  "kernelspec": {
   "display_name": "Python 3",
   "language": "python",
   "name": "python3"
  },
  "language_info": {
   "codemirror_mode": {
    "name": "ipython",
    "version": 2
   },
   "file_extension": ".py",
   "mimetype": "text/x-python",
   "name": "python",
   "nbconvert_exporter": "python",
   "pygments_lexer": "ipython2",
   "version": "2.7.6"
  }
 },
 "nbformat": 4,
 "nbformat_minor": 5
}
