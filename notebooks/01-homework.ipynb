{
 "cells": [
  {
   "cell_type": "markdown",
   "id": "af8672f99781d5d4",
   "metadata": {
    "collapsed": false
   },
   "source": [
    "Easy"
   ]
  },
  {
   "cell_type": "code",
   "execution_count": 11,
   "id": "d2784df10da3dfbb",
   "metadata": {
    "collapsed": false,
    "ExecuteTime": {
     "end_time": "2024-02-16T19:52:41.537430Z",
     "start_time": "2024-02-16T19:52:41.522184Z"
    }
   },
   "outputs": [],
   "source": [
    "def func(y):\n",
    "    \n",
    "    # Сортируем список\n",
    "    x = sorted(y)\n",
    "    \n",
    "    # Находим среднее\n",
    "    mean = sum(x) / len(x)\n",
    "    \n",
    "    # Находим медиану, разделяя случаи четной и нечетной длин\n",
    "    if len(x) % 2 == 0:\n",
    "        median = (x[len(x) // 2] + x[len(x) // 2 - 1]) / 2 \n",
    "    else:\n",
    "        median = x[len(x) // 2]\n",
    "        \n",
    "    # Считаем моду, смотря на максимум из пар (количество вхождений, само число)    \n",
    "    cnt, mode = max((x.count(t), t) for t in set(x))  \n",
    "    \n",
    "    return {\"mean\": mean, \"median\": median, \"mode\": mode}"
   ]
  },
  {
   "cell_type": "code",
   "execution_count": 12,
   "id": "a533f16127c820d5",
   "metadata": {
    "collapsed": false,
    "ExecuteTime": {
     "end_time": "2024-02-16T19:52:41.569038Z",
     "start_time": "2024-02-16T19:52:41.533184Z"
    }
   },
   "outputs": [
    {
     "data": {
      "text/plain": "{'mean': 3.4285714285714284, 'median': 3, 'mode': 1}"
     },
     "execution_count": 12,
     "metadata": {},
     "output_type": "execute_result"
    }
   ],
   "source": [
    "func([0, 1, 1, 10, 5, 4, 3])"
   ]
  },
  {
   "cell_type": "markdown",
   "id": "ada9c1f63028f63e",
   "metadata": {
    "collapsed": false
   },
   "source": [
    "Medium"
   ]
  },
  {
   "cell_type": "code",
   "execution_count": 13,
   "id": "be113aabce6f8dfe",
   "metadata": {
    "collapsed": false,
    "ExecuteTime": {
     "end_time": "2024-02-16T19:52:41.570196Z",
     "start_time": "2024-02-16T19:52:41.554219Z"
    }
   },
   "outputs": [],
   "source": [
    "with open(file=\"../dota_hero_stats.csv\") as f:\n",
    "        content = f.read()"
   ]
  },
  {
   "cell_type": "code",
   "execution_count": 14,
   "id": "c0e1127b8a077021",
   "metadata": {
    "collapsed": false,
    "ExecuteTime": {
     "end_time": "2024-02-16T19:52:41.580078Z",
     "start_time": "2024-02-16T19:52:41.573948Z"
    }
   },
   "outputs": [
    {
     "data": {
      "text/plain": "[{'': '0',\n  'attack_type': 'Melee',\n  'id': '1',\n  'legs': '2',\n  'localized_name': 'Anti-Mage',\n  'name': 'npc_dota_hero_antimage',\n  'primary_attr': 'agi',\n  'roles': '\"[\\'Carry\\', \\'Escape\\', \\'Nuker\\']\"'},\n {'': '1',\n  'attack_type': 'Melee',\n  'id': '2',\n  'legs': '2',\n  'localized_name': 'Axe',\n  'name': 'npc_dota_hero_axe',\n  'primary_attr': 'str',\n  'roles': '\"[\\'Initiator\\', \\'Durable\\', \\'Disabler\\', \\'Jungler\\']\"'},\n {'': '2',\n  'attack_type': 'Ranged',\n  'id': '3',\n  'legs': '4',\n  'localized_name': 'Bane',\n  'name': 'npc_dota_hero_bane',\n  'primary_attr': 'int',\n  'roles': '\"[\\'Support\\', \\'Disabler\\', \\'Nuker\\', \\'Durable\\']\"'},\n {'': '3',\n  'attack_type': 'Melee',\n  'id': '4',\n  'legs': '2',\n  'localized_name': 'Bloodseeker',\n  'name': 'npc_dota_hero_bloodseeker',\n  'primary_attr': 'agi',\n  'roles': '\"[\\'Carry\\', \\'Disabler\\', \\'Jungler\\', \\'Nuker\\', \\'Initiator\\']\"'},\n {'': '4',\n  'attack_type': 'Ranged',\n  'id': '5',\n  'legs': '2',\n  'localized_name': 'Crystal Maiden',\n  'name': 'npc_dota_hero_crystal_maiden',\n  'primary_attr': 'int',\n  'roles': '\"[\\'Support\\', \\'Disabler\\', \\'Nuker\\', \\'Jungler\\']\"'}]"
     },
     "execution_count": 14,
     "metadata": {},
     "output_type": "execute_result"
    }
   ],
   "source": [
    "def parse_csv(file_content: str) -> list[dict]:\n",
    "    cont = file_content.split('\\n')\n",
    "    # Удаляем пустую строку\n",
    "    cont.pop()\n",
    "    # Получаем заголовок для нашего будущего словаря\n",
    "    header = cont[0].split(',')\n",
    "    # Создаём массив словарей, для словаря объединяем заголовок и данные, данные разделяем в два действия, так как запятая (разделитель) содержится так же и в последней части данных\n",
    "    \n",
    "    res = []\n",
    "    \n",
    "    for i in range(1,len(cont)):\n",
    "        # Формируем строку данных, обрабатывая ситуацию, что внутренние данные содержат символ-разделитель\n",
    "        data = cont[i].split(',')\n",
    "        data = data[:7] + [(','.join(data[7:]))]\n",
    "        # Создаем словарь, объединяя заголовки и данные\n",
    "        data_dict = dict(zip(header, data))\n",
    "        # Добавляем словарь в список\n",
    "        res.append(data_dict)\n",
    "    return res\n",
    "\n",
    "parse_csv(content)[:5]"
   ]
  },
  {
   "cell_type": "code",
   "execution_count": 15,
   "id": "284ba5a97d5f0fbf",
   "metadata": {
    "collapsed": false,
    "ExecuteTime": {
     "end_time": "2024-02-16T19:52:41.636712Z",
     "start_time": "2024-02-16T19:52:41.587410Z"
    }
   },
   "outputs": [
    {
     "data": {
      "text/plain": "'Broodmother'"
     },
     "execution_count": 15,
     "metadata": {},
     "output_type": "execute_result"
    }
   ],
   "source": [
    "# Нахождение имени персонажа с наибольшим количеством ног\n",
    "mas = parse_csv(content)\n",
    "maxx,name_maxx = max((mas[i]['legs'], mas[i]['localized_name']) for i in range(len(mas)))\n",
    "name_maxx"
   ]
  },
  {
   "cell_type": "code",
   "execution_count": 15,
   "id": "995b9e9515bb190e",
   "metadata": {
    "collapsed": false,
    "ExecuteTime": {
     "end_time": "2024-02-16T19:52:41.662864Z",
     "start_time": "2024-02-16T19:52:41.606205Z"
    }
   },
   "outputs": [],
   "source": []
  }
 ],
 "metadata": {
  "kernelspec": {
   "display_name": "Python 3.10.9 ('base')",
   "language": "python",
   "name": "python3"
  },
  "language_info": {
   "codemirror_mode": {
    "name": "ipython",
    "version": 3
   },
   "file_extension": ".py",
   "mimetype": "text/x-python",
   "name": "python",
   "nbconvert_exporter": "python",
   "pygments_lexer": "ipython3",
   "version": "3.10.9"
  },
  "vscode": {
   "interpreter": {
    "hash": "3fd0d112331ef95bee69c1a7e063cd3394d911db44d7d0d5263f81314b0418a8"
   }
  }
 },
 "nbformat": 4,
 "nbformat_minor": 5
}
