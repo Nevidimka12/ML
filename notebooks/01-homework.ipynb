{
 "cells": [
  {
   "cell_type": "raw",
   "source": [
    "EASY"
   ],
   "metadata": {
    "collapsed": false
   },
   "id": "af8672f99781d5d4"
  },
  {
   "cell_type": "code",
   "outputs": [],
   "source": [
    "def func(y):\n",
    "    \n",
    "    # Сортируем список\n",
    "    x = sorted(y)\n",
    "    \n",
    "    # Находим среднее\n",
    "    mean = sum(x) / len(x)\n",
    "    \n",
    "    # Находим медиану, разделяя случаи четной и нечетной длин\n",
    "    if len(x) % 2 == 0:\n",
    "        median = (x[len(x) // 2] + x[len(x) // 2 - 1]) / 2 \n",
    "    else:\n",
    "        median = x[len(x) // 2]\n",
    "        \n",
    "    # Считаем моду, смотря на максимум из пар (количество вхождений, само число)    \n",
    "    cnt, mode = max((x.count(t), t) for t in set(x))  \n",
    "    \n",
    "    return {\"mean\": mean, \"median\": median, \"mode\": mode}"
   ],
   "metadata": {
    "collapsed": false,
    "ExecuteTime": {
     "end_time": "2024-02-01T02:34:14.411127Z",
     "start_time": "2024-02-01T02:34:14.399668Z"
    }
   },
   "id": "d2784df10da3dfbb",
   "execution_count": 47
  },
  {
   "cell_type": "code",
   "outputs": [
    {
     "data": {
      "text/plain": "{'mean': 3.4285714285714284, 'median': 3, 'mode': 1}"
     },
     "execution_count": 48,
     "metadata": {},
     "output_type": "execute_result"
    }
   ],
   "source": [
    "func([0, 1, 1, 10, 5, 4, 3])"
   ],
   "metadata": {
    "collapsed": false,
    "ExecuteTime": {
     "end_time": "2024-02-01T02:34:14.443710Z",
     "start_time": "2024-02-01T02:34:14.428801Z"
    }
   },
   "id": "a533f16127c820d5",
   "execution_count": 48
  },
  {
   "cell_type": "raw",
   "source": [
    "Medium"
   ],
   "metadata": {
    "collapsed": false
   },
   "id": "ada9c1f63028f63e"
  },
  {
   "cell_type": "code",
   "outputs": [],
   "source": [
    "with open(file=\"/Users/timurabdulkadirov/Desktop/ML_DOTA/dota_hero_stats.csv\") as f:\n",
    "        content = f.read()"
   ],
   "metadata": {
    "collapsed": false,
    "ExecuteTime": {
     "end_time": "2024-02-01T02:34:14.628999Z",
     "start_time": "2024-02-01T02:34:14.442399Z"
    }
   },
   "id": "be113aabce6f8dfe",
   "execution_count": 49
  },
  {
   "cell_type": "code",
   "outputs": [],
   "source": [
    "def parse_csv(file_content: str) -> list[dict]:\n",
    "    cont = file_content.split('\\n')\n",
    "    # Удаляем пустую строку\n",
    "    cont.pop()\n",
    "    # Получаем заголовок для нашего будущего словаря\n",
    "    header = cont[0].split(',')\n",
    "    # Создаём массив словарей, для словаря объединяем заголовок и данные, данные разделяем в два действия, так как запятая (разделитель) содержится так же и в последней части данных\n",
    "    res = list(dict(zip(header, cont[i].split(',')[:7] + [(','.join(cont[i].split(',')[7:]))])) for i in range(1,len(cont)))\n",
    "    return res\n",
    "\n",
    "parse_csv(content)"
   ],
   "metadata": {
    "collapsed": false
   },
   "id": "c0e1127b8a077021"
  },
  {
   "cell_type": "code",
   "outputs": [],
   "source": [
    "# Нахождение имени персонажа с наибольшим количеством ног\n",
    "mas = parse_csv(content)\n",
    "maxx,name_maxx = max((mas[i]['legs'], mas[i]['localized_name']) for i in range(len(mas)))\n",
    "name_maxx"
   ],
   "metadata": {
    "collapsed": false
   },
   "id": "284ba5a97d5f0fbf"
  },
  {
   "cell_type": "code",
   "outputs": [],
   "source": [],
   "metadata": {
    "collapsed": false,
    "ExecuteTime": {
     "end_time": "2024-02-01T02:34:14.691007Z",
     "start_time": "2024-02-01T02:34:14.686508Z"
    }
   },
   "id": "995b9e9515bb190e",
   "execution_count": 51
  }
 ],
 "metadata": {
  "kernelspec": {
   "display_name": "Python 3",
   "language": "python",
   "name": "python3"
  },
  "language_info": {
   "codemirror_mode": {
    "name": "ipython",
    "version": 2
   },
   "file_extension": ".py",
   "mimetype": "text/x-python",
   "name": "python",
   "nbconvert_exporter": "python",
   "pygments_lexer": "ipython2",
   "version": "2.7.6"
  }
 },
 "nbformat": 4,
 "nbformat_minor": 5
}
